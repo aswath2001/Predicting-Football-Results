{
 "cells": [
  {
   "cell_type": "markdown",
   "metadata": {},
   "source": [
    "## Predicting Football Results using Team Performance using pySpark\n",
    "\n",
    "We are predicting  2020/21 football results of top 5 leagues using  2019/20 results and finding which model predicts the results with high accuracy. \n",
    "\n",
    "### Tools used\n",
    "\n",
    "- MongoDb for storing and retrieving the results of top 5 leagues\n",
    "- PySpark for applying various Machine Learning algorithms on our data\n",
    "\n",
    "\n"
   ]
  },
  {
   "cell_type": "code",
   "execution_count": 1,
   "metadata": {},
   "outputs": [
    {
     "name": "stdout",
     "output_type": "stream",
     "text": [
      "Requirement already satisfied: pyspark in c:\\users\\aswath\\anaconda3\\envs\\py38\\lib\\site-packages (3.2.0)\n",
      "Requirement already satisfied: py4j==0.10.9.2 in c:\\users\\aswath\\anaconda3\\envs\\py38\\lib\\site-packages (from pyspark) (0.10.9.2)\n"
     ]
    }
   ],
   "source": [
    "#installing dependencies\n",
    "!pip install pyspark\n"
   ]
  },
  {
   "cell_type": "code",
   "execution_count": 2,
   "metadata": {},
   "outputs": [
    {
     "name": "stdout",
     "output_type": "stream",
     "text": [
      "Requirement already satisfied: sparksql-magic in c:\\users\\aswath\\anaconda3\\envs\\py38\\lib\\site-packages (0.0.3)\n",
      "Requirement already satisfied: ipython>=7.4.0 in c:\\users\\aswath\\anaconda3\\envs\\py38\\lib\\site-packages (from sparksql-magic) (7.29.0)\n",
      "Requirement already satisfied: pyspark>=2.3.0 in c:\\users\\aswath\\anaconda3\\envs\\py38\\lib\\site-packages (from sparksql-magic) (3.2.0)\n",
      "Requirement already satisfied: matplotlib-inline in c:\\users\\aswath\\anaconda3\\envs\\py38\\lib\\site-packages (from ipython>=7.4.0->sparksql-magic) (0.1.3)\n",
      "Requirement already satisfied: jedi>=0.16 in c:\\users\\aswath\\anaconda3\\envs\\py38\\lib\\site-packages (from ipython>=7.4.0->sparksql-magic) (0.18.0)\n",
      "Requirement already satisfied: backcall in c:\\users\\aswath\\anaconda3\\envs\\py38\\lib\\site-packages (from ipython>=7.4.0->sparksql-magic) (0.2.0)\n",
      "Requirement already satisfied: pygments in c:\\users\\aswath\\anaconda3\\envs\\py38\\lib\\site-packages (from ipython>=7.4.0->sparksql-magic) (2.10.0)\n",
      "Requirement already satisfied: prompt-toolkit!=3.0.0,!=3.0.1,<3.1.0,>=2.0.0 in c:\\users\\aswath\\anaconda3\\envs\\py38\\lib\\site-packages (from ipython>=7.4.0->sparksql-magic) (3.0.21)\n",
      "Requirement already satisfied: setuptools>=18.5 in c:\\users\\aswath\\anaconda3\\envs\\py38\\lib\\site-packages (from ipython>=7.4.0->sparksql-magic) (58.0.4)\n",
      "Requirement already satisfied: traitlets>=4.2 in c:\\users\\aswath\\anaconda3\\envs\\py38\\lib\\site-packages (from ipython>=7.4.0->sparksql-magic) (5.1.1)\n",
      "Requirement already satisfied: colorama in c:\\users\\aswath\\anaconda3\\envs\\py38\\lib\\site-packages (from ipython>=7.4.0->sparksql-magic) (0.4.4)\n",
      "Requirement already satisfied: pickleshare in c:\\users\\aswath\\anaconda3\\envs\\py38\\lib\\site-packages (from ipython>=7.4.0->sparksql-magic) (0.7.5)\n",
      "Requirement already satisfied: decorator in c:\\users\\aswath\\anaconda3\\envs\\py38\\lib\\site-packages (from ipython>=7.4.0->sparksql-magic) (5.1.0)\n",
      "Requirement already satisfied: py4j==0.10.9.2 in c:\\users\\aswath\\anaconda3\\envs\\py38\\lib\\site-packages (from pyspark>=2.3.0->sparksql-magic) (0.10.9.2)\n",
      "Requirement already satisfied: parso<0.9.0,>=0.8.0 in c:\\users\\aswath\\anaconda3\\envs\\py38\\lib\\site-packages (from jedi>=0.16->ipython>=7.4.0->sparksql-magic) (0.8.2)\n",
      "Requirement already satisfied: wcwidth in c:\\users\\aswath\\anaconda3\\envs\\py38\\lib\\site-packages (from prompt-toolkit!=3.0.0,!=3.0.1,<3.1.0,>=2.0.0->ipython>=7.4.0->sparksql-magic) (0.2.5)\n"
     ]
    }
   ],
   "source": [
    "!pip install sparksql-magic"
   ]
  },
  {
   "cell_type": "code",
   "execution_count": 3,
   "metadata": {},
   "outputs": [],
   "source": [
    "import pyspark"
   ]
  },
  {
   "cell_type": "code",
   "execution_count": 4,
   "metadata": {},
   "outputs": [
    {
     "name": "stdout",
     "output_type": "stream",
     "text": [
      "Requirement already satisfied: pymongo in c:\\users\\aswath\\anaconda3\\envs\\py38\\lib\\site-packages (3.12.1)\n",
      "Requirement already satisfied: pandas in c:\\users\\aswath\\anaconda3\\envs\\py38\\lib\\site-packages (1.3.4)\n",
      "Requirement already satisfied: pytz>=2017.3 in c:\\users\\aswath\\anaconda3\\envs\\py38\\lib\\site-packages (from pandas) (2021.3)\n",
      "Requirement already satisfied: python-dateutil>=2.7.3 in c:\\users\\aswath\\anaconda3\\envs\\py38\\lib\\site-packages (from pandas) (2.8.2)\n",
      "Requirement already satisfied: numpy>=1.17.3 in c:\\users\\aswath\\anaconda3\\envs\\py38\\lib\\site-packages (from pandas) (1.21.3)\n",
      "Requirement already satisfied: six>=1.5 in c:\\users\\aswath\\anaconda3\\envs\\py38\\lib\\site-packages (from python-dateutil>=2.7.3->pandas) (1.16.0)\n"
     ]
    }
   ],
   "source": [
    "!pip install pymongo\n",
    "!pip install pandas"
   ]
  },
  {
   "cell_type": "code",
   "execution_count": 5,
   "metadata": {},
   "outputs": [],
   "source": [
    "import pymongo"
   ]
  },
  {
   "cell_type": "code",
   "execution_count": 6,
   "metadata": {},
   "outputs": [],
   "source": [
    "import pandas as pd"
   ]
  },
  {
   "cell_type": "code",
   "execution_count": 7,
   "metadata": {},
   "outputs": [],
   "source": [
    "client = pymongo.MongoClient(\"mongodb://localhost:27017\")\n"
   ]
  },
  {
   "cell_type": "markdown",
   "metadata": {},
   "source": [
    "### Preparing the Dataset and storing them in MongoDB"
   ]
  },
  {
   "cell_type": "code",
   "execution_count": 18,
   "metadata": {},
   "outputs": [],
   "source": [
    "db = client[\"LeagueStats\"]"
   ]
  },
  {
   "cell_type": "code",
   "execution_count": 19,
   "metadata": {},
   "outputs": [
    {
     "name": "stdout",
     "output_type": "stream",
     "text": [
      "Database(MongoClient(host=['localhost:27017'], document_class=dict, tz_aware=False, connect=True), 'LeagueStats')\n"
     ]
    }
   ],
   "source": [
    "print(db)"
   ]
  },
  {
   "cell_type": "code",
   "execution_count": 20,
   "metadata": {},
   "outputs": [
    {
     "data": {
      "text/plain": [
       "<pymongo.results.InsertManyResult at 0x23b495c5f48>"
      ]
     },
     "execution_count": 20,
     "metadata": {},
     "output_type": "execute_result"
    }
   ],
   "source": [
    "db.PL2021.insert_many(data)"
   ]
  },
  {
   "cell_type": "code",
   "execution_count": 21,
   "metadata": {},
   "outputs": [
    {
     "data": {
      "text/plain": [
       "<pymongo.results.InsertManyResult at 0x23b490e27c8>"
      ]
     },
     "execution_count": 21,
     "metadata": {},
     "output_type": "execute_result"
    }
   ],
   "source": [
    "#storing the data in csv files to mongodb\n",
    "df = pd.read_csv(r\"C:\\Users\\Aswath\\Desktop\\Big Data Pack\\Datas\\PL2020-21.csv\")\n",
    "data = df.to_dict(orient=\"records\")\n",
    "db.PL2021.insert_many(data)\n",
    "df = pd.read_csv(r\"C:\\Users\\Aswath\\Desktop\\Big Data Pack\\Datas\\PL2019-20.csv\")\n",
    "data = df.to_dict(orient=\"records\")\n",
    "db.PL2020.insert_many(data)"
   ]
  },
  {
   "cell_type": "code",
   "execution_count": 22,
   "metadata": {},
   "outputs": [
    {
     "data": {
      "text/plain": [
       "<pymongo.results.InsertManyResult at 0x23b496b9c88>"
      ]
     },
     "execution_count": 22,
     "metadata": {},
     "output_type": "execute_result"
    }
   ],
   "source": [
    "df = pd.read_csv(r\"C:\\Users\\Aswath\\Desktop\\Big Data Pack\\Datas\\Bundesliga2020-21.csv\")\n",
    "data = df.to_dict(orient=\"records\")\n",
    "db.Bundesliga2021.insert_many(data)\n",
    "df = pd.read_csv(r\"C:\\Users\\Aswath\\Desktop\\Big Data Pack\\Datas\\Bundesliga2019-20.csv\")\n",
    "data = df.to_dict(orient=\"records\")\n",
    "db.Bundesliga2020.insert_many(data)"
   ]
  },
  {
   "cell_type": "code",
   "execution_count": 23,
   "metadata": {},
   "outputs": [
    {
     "data": {
      "text/plain": [
       "<pymongo.results.InsertManyResult at 0x23b49848fc8>"
      ]
     },
     "execution_count": 23,
     "metadata": {},
     "output_type": "execute_result"
    }
   ],
   "source": [
    "df = pd.read_csv(r\"C:\\Users\\Aswath\\Desktop\\Big Data Pack\\Datas\\SerieA2020-21.csv\")\n",
    "data = df.to_dict(orient=\"records\")\n",
    "db.SerieA2021.insert_many(data)\n",
    "df = pd.read_csv(r\"C:\\Users\\Aswath\\Desktop\\Big Data Pack\\Datas\\SerieA2019-20.csv\")\n",
    "data = df.to_dict(orient=\"records\")\n",
    "db.SerieA2020.insert_many(data)"
   ]
  },
  {
   "cell_type": "code",
   "execution_count": 24,
   "metadata": {},
   "outputs": [
    {
     "data": {
      "text/plain": [
       "<pymongo.results.InsertManyResult at 0x23b49703908>"
      ]
     },
     "execution_count": 24,
     "metadata": {},
     "output_type": "execute_result"
    }
   ],
   "source": [
    "df = pd.read_csv(r\"C:\\Users\\Aswath\\Desktop\\Big Data Pack\\Datas\\LaLiga2020-21.csv\")\n",
    "data = df.to_dict(orient=\"records\")\n",
    "db.LaLiga2021.insert_many(data)\n",
    "df = pd.read_csv(r\"C:\\Users\\Aswath\\Desktop\\Big Data Pack\\Datas\\LaLiga2019-20.csv\")\n",
    "data = df.to_dict(orient=\"records\")\n",
    "db.LaLiga2020.insert_many(data)"
   ]
  },
  {
   "cell_type": "code",
   "execution_count": 25,
   "metadata": {},
   "outputs": [
    {
     "data": {
      "text/plain": [
       "<pymongo.results.InsertManyResult at 0x23b4944f848>"
      ]
     },
     "execution_count": 25,
     "metadata": {},
     "output_type": "execute_result"
    }
   ],
   "source": [
    "df = pd.read_csv(r\"C:\\Users\\Aswath\\Desktop\\Big Data Pack\\Datas\\Ligue2020-21.csv\")\n",
    "data = df.to_dict(orient=\"records\")\n",
    "db.Ligue2021.insert_many(data)\n",
    "df = pd.read_csv(r\"C:\\Users\\Aswath\\Desktop\\Big Data Pack\\Datas\\Ligue2019-20.csv\")\n",
    "data = df.to_dict(orient=\"records\")\n",
    "db.Ligue2020.insert_many(data)"
   ]
  },
  {
   "cell_type": "code",
   "execution_count": 8,
   "metadata": {},
   "outputs": [],
   "source": [
    "from pyspark.sql import SparkSession"
   ]
  },
  {
   "cell_type": "code",
   "execution_count": 9,
   "metadata": {
    "scrolled": true
   },
   "outputs": [],
   "source": [
    "my_spark = SparkSession \\\n",
    "    .builder \\\n",
    "    .appName(\"myApp\") \\\n",
    "    .master('local')\\\n",
    "    .config(\"spark.mongodb.input.uri\", \"mongodb://127.0.0.1/LeagueStats.PL2020\") \\\n",
    "    .config(\"spark.mongodb.output.uri\", \"mongodb://127.0.0.1/LeagueStats.PL2020\") \\\n",
    "    .config(\"spark.jars.packages\", \"org.mongodb.spark:mongo-spark-connector_2.12:3.0.1\")\\\n",
    "    .getOrCreate()"
   ]
  },
  {
   "cell_type": "code",
   "execution_count": 10,
   "metadata": {},
   "outputs": [],
   "source": [
    "df = my_spark.read.format(\"com.mongodb.spark.sql.DefaultSource\").load()"
   ]
  },
  {
   "cell_type": "markdown",
   "metadata": {},
   "source": [
    "If you encounter problem while connecting pyspark with mongoDB\n",
    "- Download Java 8 jdk\n",
    "- In your Spark shell, run this command \"bin\\pyspark --packages org.mongodb.spark:mongo-spark-connector_2.11:2.2.0\""
   ]
  },
  {
   "cell_type": "markdown",
   "metadata": {},
   "source": [
    "### Data Exploration"
   ]
  },
  {
   "cell_type": "code",
   "execution_count": 11,
   "metadata": {},
   "outputs": [
    {
     "name": "stdout",
     "output_type": "stream",
     "text": [
      "Requirement already satisfied: matplotlib in c:\\users\\aswath\\anaconda3\\envs\\py38\\lib\\site-packages (3.4.3)\n",
      "Requirement already satisfied: numpy>=1.16 in c:\\users\\aswath\\anaconda3\\envs\\py38\\lib\\site-packages (from matplotlib) (1.21.3)\n",
      "Requirement already satisfied: cycler>=0.10 in c:\\users\\aswath\\anaconda3\\envs\\py38\\lib\\site-packages (from matplotlib) (0.11.0)\n",
      "Requirement already satisfied: python-dateutil>=2.7 in c:\\users\\aswath\\anaconda3\\envs\\py38\\lib\\site-packages (from matplotlib) (2.8.2)\n",
      "Requirement already satisfied: kiwisolver>=1.0.1 in c:\\users\\aswath\\anaconda3\\envs\\py38\\lib\\site-packages (from matplotlib) (1.3.2)\n",
      "Requirement already satisfied: pyparsing>=2.2.1 in c:\\users\\aswath\\anaconda3\\envs\\py38\\lib\\site-packages (from matplotlib) (2.4.7)\n",
      "Requirement already satisfied: pillow>=6.2.0 in c:\\users\\aswath\\anaconda3\\envs\\py38\\lib\\site-packages (from matplotlib) (8.4.0)\n",
      "Requirement already satisfied: six>=1.5 in c:\\users\\aswath\\anaconda3\\envs\\py38\\lib\\site-packages (from python-dateutil>=2.7->matplotlib) (1.16.0)\n"
     ]
    },
    {
     "name": "stderr",
     "output_type": "stream",
     "text": [
      "C:\\Users\\Aswath\\Anaconda3\\envs\\py38\\lib\\site-packages\\pyspark\\sql\\pandas\\conversion.py:202: PerformanceWarning: DataFrame is highly fragmented.  This is usually the result of calling `frame.insert` many times, which has poor performance.  Consider joining all columns at once using pd.concat(axis=1) instead.  To get a de-fragmented frame, use `newframe = frame.copy()`\n",
      "  df[column_name] = series\n"
     ]
    },
    {
     "data": {
      "text/plain": [
       "array([[<AxesSubplot:xlabel='FTHG', ylabel='FTHG'>,\n",
       "        <AxesSubplot:xlabel='FTAG', ylabel='FTHG'>,\n",
       "        <AxesSubplot:xlabel='HST', ylabel='FTHG'>,\n",
       "        <AxesSubplot:xlabel='AST', ylabel='FTHG'>],\n",
       "       [<AxesSubplot:xlabel='FTHG', ylabel='FTAG'>,\n",
       "        <AxesSubplot:xlabel='FTAG', ylabel='FTAG'>,\n",
       "        <AxesSubplot:xlabel='HST', ylabel='FTAG'>,\n",
       "        <AxesSubplot:xlabel='AST', ylabel='FTAG'>],\n",
       "       [<AxesSubplot:xlabel='FTHG', ylabel='HST'>,\n",
       "        <AxesSubplot:xlabel='FTAG', ylabel='HST'>,\n",
       "        <AxesSubplot:xlabel='HST', ylabel='HST'>,\n",
       "        <AxesSubplot:xlabel='AST', ylabel='HST'>],\n",
       "       [<AxesSubplot:xlabel='FTHG', ylabel='AST'>,\n",
       "        <AxesSubplot:xlabel='FTAG', ylabel='AST'>,\n",
       "        <AxesSubplot:xlabel='HST', ylabel='AST'>,\n",
       "        <AxesSubplot:xlabel='AST', ylabel='AST'>]], dtype=object)"
      ]
     },
     "execution_count": 11,
     "metadata": {},
     "output_type": "execute_result"
    },
    {
     "data": {
      "image/png": "[encoded data removed]",
      "text/plain": [
       "<Figure size 576x576 with 16 Axes>"
      ]
     },
     "metadata": {
      "needs_background": "light"
     },
     "output_type": "display_data"
    }
   ],
   "source": [
    "!pip install matplotlib\n",
    "#to find the relation between two variables we use Scatter matrix\n",
    "#It can be used to determine whether the variables are correlated and whether the correlation is positive or negative\n",
    "from pandas.plotting import scatter_matrix\n",
    "\n",
    "#Premier League \n",
    "pandas_df = df.toPandas()\n",
    "scatter_matrix(pandas_df[['FTHG','FTAG','FTR','HST','AST']], figsize=(8,8))"
   ]
  },
  {
   "cell_type": "code",
   "execution_count": 12,
   "metadata": {},
   "outputs": [
    {
     "name": "stderr",
     "output_type": "stream",
     "text": [
      "C:\\Users\\Aswath\\Anaconda3\\envs\\py38\\lib\\site-packages\\pyspark\\sql\\pandas\\conversion.py:202: PerformanceWarning: DataFrame is highly fragmented.  This is usually the result of calling `frame.insert` many times, which has poor performance.  Consider joining all columns at once using pd.concat(axis=1) instead.  To get a de-fragmented frame, use `newframe = frame.copy()`\n",
      "  df[column_name] = series\n"
     ]
    },
    {
     "data": {
      "text/plain": [
       "array([[<AxesSubplot:xlabel='FTHG', ylabel='FTHG'>,\n",
       "        <AxesSubplot:xlabel='FTAG', ylabel='FTHG'>,\n",
       "        <AxesSubplot:xlabel='HST', ylabel='FTHG'>,\n",
       "        <AxesSubplot:xlabel='AST', ylabel='FTHG'>],\n",
       "       [<AxesSubplot:xlabel='FTHG', ylabel='FTAG'>,\n",
       "        <AxesSubplot:xlabel='FTAG', ylabel='FTAG'>,\n",
       "        <AxesSubplot:xlabel='HST', ylabel='FTAG'>,\n",
       "        <AxesSubplot:xlabel='AST', ylabel='FTAG'>],\n",
       "       [<AxesSubplot:xlabel='FTHG', ylabel='HST'>,\n",
       "        <AxesSubplot:xlabel='FTAG', ylabel='HST'>,\n",
       "        <AxesSubplot:xlabel='HST', ylabel='HST'>,\n",
       "        <AxesSubplot:xlabel='AST', ylabel='HST'>],\n",
       "       [<AxesSubplot:xlabel='FTHG', ylabel='AST'>,\n",
       "        <AxesSubplot:xlabel='FTAG', ylabel='AST'>,\n",
       "        <AxesSubplot:xlabel='HST', ylabel='AST'>,\n",
       "        <AxesSubplot:xlabel='AST', ylabel='AST'>]], dtype=object)"
      ]
     },
     "execution_count": 12,
     "metadata": {},
     "output_type": "execute_result"
    },
    {
     "data": {
      "image/png": "[encoded data removed]",
      "text/plain": [
       "<Figure size 576x576 with 16 Axes>"
      ]
     },
     "metadata": {
      "needs_background": "light"
     },
     "output_type": "display_data"
    }
   ],
   "source": [
    "#Laliga\n",
    "df= my_spark.read.format(\"mongo\").option(\"uri\",\"mongodb://127.0.0.1/LeagueStats.LaLiga2020\").load()\n",
    "pandas_df = df.toPandas()\n",
    "scatter_matrix(pandas_df[['FTHG','FTAG','FTR','HST','AST']], figsize=(8,8))"
   ]
  },
  {
   "cell_type": "code",
   "execution_count": 13,
   "metadata": {},
   "outputs": [
    {
     "data": {
      "text/plain": [
       "array([[<AxesSubplot:xlabel='FTHG', ylabel='FTHG'>,\n",
       "        <AxesSubplot:xlabel='FTAG', ylabel='FTHG'>,\n",
       "        <AxesSubplot:xlabel='HST', ylabel='FTHG'>,\n",
       "        <AxesSubplot:xlabel='AST', ylabel='FTHG'>],\n",
       "       [<AxesSubplot:xlabel='FTHG', ylabel='FTAG'>,\n",
       "        <AxesSubplot:xlabel='FTAG', ylabel='FTAG'>,\n",
       "        <AxesSubplot:xlabel='HST', ylabel='FTAG'>,\n",
       "        <AxesSubplot:xlabel='AST', ylabel='FTAG'>],\n",
       "       [<AxesSubplot:xlabel='FTHG', ylabel='HST'>,\n",
       "        <AxesSubplot:xlabel='FTAG', ylabel='HST'>,\n",
       "        <AxesSubplot:xlabel='HST', ylabel='HST'>,\n",
       "        <AxesSubplot:xlabel='AST', ylabel='HST'>],\n",
       "       [<AxesSubplot:xlabel='FTHG', ylabel='AST'>,\n",
       "        <AxesSubplot:xlabel='FTAG', ylabel='AST'>,\n",
       "        <AxesSubplot:xlabel='HST', ylabel='AST'>,\n",
       "        <AxesSubplot:xlabel='AST', ylabel='AST'>]], dtype=object)"
      ]
     },
     "execution_count": 13,
     "metadata": {},
     "output_type": "execute_result"
    },
    {
     "data": {
      "image/png": "[encoded data removed]",
      "text/plain": [
       "<Figure size 576x576 with 16 Axes>"
      ]
     },
     "metadata": {
      "needs_background": "light"
     },
     "output_type": "display_data"
    }
   ],
   "source": [
    "#Serie-A\n",
    "df= my_spark.read.format(\"mongo\").option(\"uri\",\"mongodb://127.0.0.1/LeagueStats.SerieA2020\").load()\n",
    "pandas_df = df.toPandas()\n",
    "scatter_matrix(pandas_df[['FTHG','FTAG','FTR','HST','AST']], figsize=(8,8))"
   ]
  },
  {
   "cell_type": "markdown",
   "metadata": {},
   "source": [
    "From the Scatter Matrices,We can observe that\n",
    "- The Scatter Graph between HST (Home Shot on Target) and FTHG (Full Time Home Goal) has a positive slope (positive Correlation)\n",
    "- The Scatter Graph between AST (Away Shot on Target) and FTAG (Full Time Away Goal) has a positive slope (positive Correlation)\n",
    "- The Scatter Graph between AST (Away Shot on Target) and HST (Home Shot on Target) has a negative slope (negative Correlation)\n",
    "\n",
    "\n",
    "So, we can understand that HST , FTHG , AST and FTAG are some factors influencing a match's result"
   ]
  },
  {
   "cell_type": "markdown",
   "metadata": {},
   "source": [
    "## Predicting scores through Poisson Regression\n",
    "\n",
    "Poisson distribution can be used to measure the probability of independent events occurring a certain number of times within a set period - such as the number of goals scored in a football match.\n",
    "\n",
    "We do not need information about division,date and referee from various companies for this method.We just need team's attacking strength and defensive strength for prediction.Poisson regression helps us to predict a fixture.We can simulate for all fixtures \n",
    "to get the points table for the season."
   ]
  },
  {
   "cell_type": "code",
   "execution_count": 14,
   "metadata": {},
   "outputs": [],
   "source": [
    "#Calculating Home Attacking Strength,Home Defensive Strength,Away Attacking Strength,Away Defensive Strength of Each Team\n",
    "def calculate_AS_DS(df): \n",
    "    \n",
    "    no_of_teams = df.select('HomeTeam').distinct().count()\n",
    "    \n",
    "    avg_home_goal_scored = df.groupBy().sum('FTHG').collect()[0][0]/((no_of_teams-1)*no_of_teams)\n",
    "    avg_away_goal_scored = df.groupBy().sum('FTAG').collect()[0][0]/((no_of_teams-1)*no_of_teams)\n",
    "\n",
    "    avg_home_goal_conceded = avg_away_goal_scored\n",
    "    avg_away_goal_conceded = avg_home_goal_scored\n",
    "\n",
    "    #calculating home attacking strength\n",
    "    avg_has = df.groupBy('HomeTeam').sum('FTHG')\n",
    "    avg_has = avg_has.withColumnRenamed('sum(FTHG)','HGS')\n",
    "    avg_has = avg_has.withColumn('HAS',avg_has['HGS']/((no_of_teams-1)*avg_home_goal_scored))\n",
    "\n",
    "    #calculating home defensive strength\n",
    "    avg_hds = df.groupBy('HomeTeam').sum('FTAG')\n",
    "    avg_hds = avg_hds.withColumnRenamed('sum(FTAG)','HGC')\n",
    "    avg_hds = avg_hds.withColumnRenamed('HomeTeam','Team')\n",
    "    avg_hds = avg_hds.withColumn('HDS',avg_hds['HGC']/((no_of_teams-1)*avg_home_goal_conceded))\n",
    "\n",
    "    #appending avg_hds with avg_has\n",
    "    avg_has=avg_has.join(avg_hds,avg_has.HomeTeam == avg_hds.Team,\"inner\")\n",
    "    avg_has=avg_has.drop('Team')\n",
    "\n",
    "    #calculating away attacking strength\n",
    "    avg_aas = df.groupBy('AwayTeam').sum('FTAG')\n",
    "    avg_aas = avg_aas.withColumnRenamed('sum(FTAG)','AGS')\n",
    "    avg_aas = avg_aas.withColumn('AAS',avg_aas['AGS']/((no_of_teams-1)*avg_away_goal_scored))\n",
    "\n",
    "    #appending avg_aas with avg_has\n",
    "    avg_has=avg_has.join(avg_aas,avg_has.HomeTeam == avg_aas.AwayTeam,\"inner\")\n",
    "    avg_has=avg_has.drop('AwayTeam')\n",
    "\n",
    "    #calculating away defensive strength\n",
    "    avg_ads = df.groupBy('AwayTeam').sum('FTHG')\n",
    "    avg_ads = avg_ads.withColumnRenamed('sum(FTHG)','AGC')\n",
    "    avg_ads = avg_ads.withColumnRenamed('AwayTeam','Team')\n",
    "    avg_ads = avg_ads.withColumn('ADS',avg_ads['AGC']/((no_of_teams-1)*avg_away_goal_conceded))\n",
    "\n",
    "    #appending avg_ads with avg_has and renaming avg_has as Team_Stats\n",
    "    avg_has=avg_has.join(avg_ads,avg_has.HomeTeam == avg_ads.Team,\"inner\")\n",
    "    Team_Stats=avg_has.drop('Team')\n",
    "    Team_Stats = Team_Stats.withColumnRenamed('HomeTeam','Team')\n",
    "    return Team_Stats"
   ]
  },
  {
   "cell_type": "code",
   "execution_count": 15,
   "metadata": {},
   "outputs": [
    {
     "name": "stdout",
     "output_type": "stream",
     "text": [
      "Requirement already satisfied: scipy in c:\\users\\aswath\\anaconda3\\envs\\py38\\lib\\site-packages (1.7.1)\n",
      "Requirement already satisfied: numpy<1.23.0,>=1.16.5 in c:\\users\\aswath\\anaconda3\\envs\\py38\\lib\\site-packages (from scipy) (1.21.3)\n"
     ]
    }
   ],
   "source": [
    "!pip install scipy\n",
    "import scipy.stats as spy\n",
    "def expected_goals(xG):\n",
    "    ret = []\n",
    "    for i in range(0,6):\n",
    "        pmf = spy.poisson.pmf(i,xG)\n",
    "        ret.append(pmf)\n",
    "    return ret"
   ]
  },
  {
   "cell_type": "code",
   "execution_count": 16,
   "metadata": {},
   "outputs": [],
   "source": [
    "def GoalsScored(df):\n",
    "    no_of_teams = df.select('HomeTeam').distinct().count()\n",
    "    avg_home_goal_scored = df.groupBy().sum('FTHG').collect()[0][0]/((no_of_teams-1)*no_of_teams)\n",
    "    avg_away_goal_scored = df.groupBy().sum('FTAG').collect()[0][0]/((no_of_teams-1)*no_of_teams)\n",
    "    return avg_home_goal_scored,avg_away_goal_scored"
   ]
  },
  {
   "cell_type": "code",
   "execution_count": 17,
   "metadata": {},
   "outputs": [],
   "source": [
    "from tabulate import tabulate\n",
    "def ComputePoissonDistribution(h_team,a_team,ts,ahgs,aags):\n",
    "    h_team_hs = ts.filter(ts['Team']==h_team).select([\"HAS\",\"HDS\"])\n",
    "    a_team_as = ts.filter(ts['Team']==a_team).select([\"AAS\",\"ADS\"])\n",
    "    \n",
    "    hxG = h_team_hs.collect()[0][0]*a_team_as.collect()[0][1]*ahgs\n",
    "    axG = a_team_as.collect()[0][0]*h_team_hs.collect()[0][1]*aags\n",
    "    \n",
    "    expected_hg = expected_goals(hxG)\n",
    "    expected_ag = expected_goals(axG)\n",
    "\n",
    "    lst=[]\n",
    "    for i in range(len(expected_hg)):\n",
    "        l=[i]\n",
    "        for j in range(len(expected_ag)):\n",
    "            l.append(expected_hg[i]*expected_ag[j])\n",
    "        lst.append(l)\n",
    "    print(\"Probabilites of Each Score(row headers are away team goals and column headers are home team goals)\\n\")     \n",
    "    print(tabulate(lst,headers = [\" \",\"0\",\"1\",\"2\",\"3\",\"4\",\"5\"],tablefmt='orgtbl'))\n",
    "    \n",
    "    drawPercent = 0\n",
    "    HomeWinPercent = 0\n",
    "    AwayWinPercent = 0\n",
    "\n",
    "    for i in range(0,len(lst)):\n",
    "        for j in range(1,len(lst[0])):\n",
    "            if(i==j):\n",
    "                drawPercent = drawPercent+lst[i][j]\n",
    "            elif i>j:\n",
    "                AwayWinPercent = AwayWinPercent+lst[i][j]\n",
    "            else:\n",
    "                HomeWinPercent = HomeWinPercent+lst[i][j]\n",
    "\n",
    "    print(\"\\nPercentage of  Draw : \",drawPercent*100,\"\\nPercentage of \",h_team,\" Win : \",HomeWinPercent*100,\"\\nPercentage of \",a_team,\" Win : \",AwayWinPercent*100)\n",
    "\n",
    "    print(\"\\n\")\n",
    "    if(drawPercent > max(HomeWinPercent,AwayWinPercent)):\n",
    "        print(\"Draw\")\n",
    "    elif (HomeWinPercent>AwayWinPercent):\n",
    "        print(h_team,\" wins\")\n",
    "    else:\n",
    "        print(a_team,\" wins\")\n",
    "    "
   ]
  },
  {
   "cell_type": "code",
   "execution_count": 18,
   "metadata": {},
   "outputs": [
    {
     "name": "stdout",
     "output_type": "stream",
     "text": [
      "Probabilites of Each Score(row headers are away team goals and column headers are home team goals)\n",
      "\n",
      "|     |          0 |         1 |          2 |          3 |          4 |           5 |\n",
      "|-----+------------+-----------+------------+------------+------------+-------------|\n",
      "|   0 | 0.0366715  | 0.0501821 | 0.0343351  | 0.0156616  | 0.00535793 | 0.00146638  |\n",
      "|   1 | 0.071045   | 0.0972194 | 0.0665186  | 0.0303418  | 0.0103801  | 0.00284087  |\n",
      "|   2 | 0.0688189  | 0.0941733 | 0.0644343  | 0.0293911  | 0.0100548  | 0.00275185  |\n",
      "|   3 | 0.0444417  | 0.060815  | 0.0416103  | 0.0189801  | 0.0064932  | 0.00177709  |\n",
      "|   4 | 0.0215246  | 0.0294547 | 0.0201532  | 0.00919271 | 0.00314487 | 0.000860702 |\n",
      "|   5 | 0.00834007 | 0.0114127 | 0.00780871 | 0.00356187 | 0.00121853 | 0.000333493 |\n",
      "\n",
      "Percentage of  Draw :  21.72397383716124 \n",
      "Percentage of  Man City  Win :  48.91970531278666 \n",
      "Percentage of  Liverpool  Win :  27.633162314131525\n",
      "\n",
      "\n",
      "Man City  wins\n"
     ]
    }
   ],
   "source": [
    "df = my_spark.read.format(\"mongo\").option(\"uri\",\"mongodb://127.0.0.1/LeagueStats.PL2021\").load()\n",
    "ahgs,aags = GoalsScored(df)\n",
    "ComputePoissonDistribution(\"Man City\",\"Liverpool\",calculate_AS_DS(df),ahgs,aags)\n"
   ]
  },
  {
   "cell_type": "code",
   "execution_count": 19,
   "metadata": {},
   "outputs": [
    {
     "name": "stdout",
     "output_type": "stream",
     "text": [
      "Probabilites of Each Score(row headers are away team goals and column headers are home team goals)\n",
      "\n",
      "|     |          0 |         1 |          2 |          3 |           4 |           5 |\n",
      "|-----+------------+-----------+------------+------------+-------------+-------------|\n",
      "|   0 | 0.082236   | 0.106556  | 0.069034   | 0.0298166  | 0.00965858  | 0.00250299  |\n",
      "|   1 | 0.0988829  | 0.128126  | 0.0830085  | 0.0358523  | 0.0116138   | 0.00300967  |\n",
      "|   2 | 0.0594498  | 0.0770312 | 0.0499059  | 0.0215549  | 0.00698236  | 0.00180946  |\n",
      "|   3 | 0.0238281  | 0.0308748 | 0.0200028  | 0.00863942 | 0.0027986   | 0.000725248 |\n",
      "|   4 | 0.00716289 | 0.0092812 | 0.00601298 | 0.00259707 | 0.000841279 | 0.000218015 |\n",
      "|   5 | 0.00172257 | 0.002232  | 0.00144604 | 0.00062456 | 0.000202316 | 5.24294e-05 |\n",
      "\n",
      "Percentage of  Draw :  19.871623301289087 \n",
      "Percentage of  Real Madrid  Win :  65.49417934745146 \n",
      "Percentage of  Barcelona  Win :  14.263499847547365\n",
      "\n",
      "\n",
      "Real Madrid  wins\n"
     ]
    }
   ],
   "source": [
    "df = my_spark.read.format(\"mongo\").option(\"uri\",\"mongodb://127.0.0.1/LeagueStats.LaLiga2021\").load()\n",
    "ahgs,aags = GoalsScored(df)\n",
    "ComputePoissonDistribution(\"Real Madrid\",\"Barcelona\",calculate_AS_DS(df),ahgs,aags)"
   ]
  },
  {
   "cell_type": "code",
   "execution_count": 20,
   "metadata": {},
   "outputs": [
    {
     "name": "stdout",
     "output_type": "stream",
     "text": [
      "Probabilites of Each Score(row headers are away team goals and column headers are home team goals)\n",
      "\n",
      "|     |          0 |          1 |          2 |           3 |           4 |           5 |\n",
      "|-----+------------+------------+------------+-------------+-------------+-------------|\n",
      "|   0 | 0.0892127  | 0.112274   | 0.0706481  | 0.0296368   | 0.00932446  | 0.00234696  |\n",
      "|   1 | 0.103329   | 0.13004    | 0.0818272  | 0.0343264   | 0.0107999   | 0.00271833  |\n",
      "|   2 | 0.0598398  | 0.0753082  | 0.0473876  | 0.019879    | 0.00625443  | 0.00157423  |\n",
      "|   3 | 0.0231029  | 0.0290749  | 0.0182953  | 0.00767487  | 0.0024147   | 0.000607778 |\n",
      "|   4 | 0.00668964 | 0.00841889 | 0.00529757 | 0.00222233  | 0.000699197 | 0.000175988 |\n",
      "|   5 | 0.00154964 | 0.00195021 | 0.00122717 | 0.000514795 | 0.000161967 | 4.0767e-05  |\n",
      "\n",
      "Percentage of  Draw :  19.93170981217693 \n",
      "Percentage of  Juventus  Win :  65.98629054138574 \n",
      "Percentage of  Inter  Win :  13.766545892425706\n",
      "\n",
      "\n",
      "Juventus  wins\n"
     ]
    }
   ],
   "source": [
    "df = my_spark.read.format(\"mongo\").option(\"uri\",\"mongodb://127.0.0.1/LeagueStats.SerieA2021\").load()\n",
    "ahgs,aags = GoalsScored(df)\n",
    "ComputePoissonDistribution(\"Juventus\",\"Inter\",calculate_AS_DS(df),ahgs,aags)"
   ]
  },
  {
   "cell_type": "code",
   "execution_count": 21,
   "metadata": {},
   "outputs": [
    {
     "name": "stdout",
     "output_type": "stream",
     "text": [
      "Probabilites of Each Score(row headers are away team goals and column headers are home team goals)\n",
      "\n",
      "|     |          0 |          1 |          2 |          3 |          4 |           5 |\n",
      "|-----+------------+------------+------------+------------+------------+-------------|\n",
      "|   0 | 0.00494324 | 0.00926989 | 0.00869175 | 0.00543312 | 0.00254713 | 0.000955311 |\n",
      "|   1 | 0.0169774  | 0.0318371  | 0.0298516  | 0.0186599  | 0.00874805 | 0.00328098  |\n",
      "|   2 | 0.0291542  | 0.0546718  | 0.0512621  | 0.0320434  | 0.0150225  | 0.00563422  |\n",
      "|   3 | 0.0333764  | 0.0625896  | 0.058686   | 0.036684   | 0.017198   | 0.00645018  |\n",
      "|   4 | 0.0286575  | 0.0537405  | 0.0503888  | 0.0314975  | 0.0147665  | 0.00553824  |\n",
      "|   5 | 0.0196847  | 0.036914   | 0.0346118  | 0.0216354  | 0.010143   | 0.00380418  |\n",
      "\n",
      "Percentage of  Draw :  17.197578515008736 \n",
      "Percentage of  Bayern Munich  Win :  31.26213142507584 \n",
      "Percentage of  Dortmund  Win :  37.07527741038135\n",
      "\n",
      "\n",
      "Dortmund  wins\n"
     ]
    }
   ],
   "source": [
    "df = my_spark.read.format(\"mongo\").option(\"uri\",\"mongodb://127.0.0.1/LeagueStats.Bundesliga2021\").load()\n",
    "ahgs,aags = GoalsScored(df)\n",
    "ComputePoissonDistribution(\"Bayern Munich\",\"Dortmund\",calculate_AS_DS(df),ahgs,aags)"
   ]
  },
  {
   "cell_type": "code",
   "execution_count": 22,
   "metadata": {},
   "outputs": [
    {
     "name": "stdout",
     "output_type": "stream",
     "text": [
      "Probabilites of Each Score(row headers are away team goals and column headers are home team goals)\n",
      "\n",
      "|     |          0 |          1 |           2 |           3 |           4 |           5 |\n",
      "|-----+------------+------------+-------------+-------------+-------------+-------------|\n",
      "|   0 | 0.126076   | 0.129125   | 0.0661239   | 0.0225743   | 0.00578005  | 0.00118396  |\n",
      "|   1 | 0.131962   | 0.135153   | 0.0692109   | 0.0236282   | 0.00604989  | 0.00123924  |\n",
      "|   2 | 0.0690614  | 0.0707315  | 0.036221    | 0.0123656   | 0.00316616  | 0.000648545 |\n",
      "|   3 | 0.0240952  | 0.0246779  | 0.0126373   | 0.0043143   | 0.00110466  | 0.000226274 |\n",
      "|   4 | 0.00630501 | 0.00645748 | 0.00330682  | 0.00112893  | 0.000289057 | 5.92094e-05 |\n",
      "|   5 | 0.00131987 | 0.00135179 | 0.000692239 | 0.000236326 | 6.05103e-05 | 1.23947e-05 |\n",
      "\n",
      "Percentage of  Draw :  21.652053768166212 \n",
      "Percentage of  Paris SG  Win :  64.45527147040131 \n",
      "Percentage of  Lille  Win :  13.750402118194813\n",
      "\n",
      "\n",
      "Paris SG  wins\n"
     ]
    }
   ],
   "source": [
    "df = my_spark.read.format(\"mongo\").option(\"uri\",\"mongodb://127.0.0.1/LeagueStats.Ligue2021\").load()\n",
    "ahgs,aags = GoalsScored(df)\n",
    "ComputePoissonDistribution(\"Paris SG\",\"Lille\",calculate_AS_DS(df),ahgs,aags)"
   ]
  },
  {
   "cell_type": "markdown",
   "metadata": {},
   "source": [
    "## Prediction of the final result using Classification Algorithms using Machine Learning \n",
    "\n",
    "Instead of trying to predict the scores in a given fixture, we can try to predict the final outcome(home win, draw or away win).The objective would be to compare a model between different leagues"
   ]
  },
  {
   "cell_type": "code",
   "execution_count": 23,
   "metadata": {},
   "outputs": [],
   "source": [
    "#computing previous year points table for labelling the teams.Why Iam not going for other encoders is,Each year teams \n",
    "# in 18,19,20 places gets relegated and new Teams come in their position\n",
    "\n",
    "from pyspark.sql.types import StructType,StructField, StringType, IntegerType\n",
    "\n",
    "def ComputePointsTable(df):\n",
    "    Team_Names=df.select('HomeTeam').distinct().collect()\n",
    "    no_of_teams = len(Team_Names)\n",
    "    pointsTable = []\n",
    "    for team in Team_Names:\n",
    "        wins = df.filter(((df['HomeTeam']==team.HomeTeam)&(df['FTR']=='H'))|((df['AwayTeam']==team.HomeTeam)&(df['FTR']=='A'))).count() \n",
    "        draws = df.filter(((df['HomeTeam']==team.HomeTeam)&(df['FTR']=='D'))|((df['AwayTeam']==team.HomeTeam)&(df['FTR']=='D'))).count()\n",
    "        loses = 2*(no_of_teams-1)-wins-draws\n",
    "        points = wins*3+draws\n",
    "        tup = (team.HomeTeam,wins,draws,loses,points)\n",
    "        pointsTable.append(tup)\n",
    "\n",
    "    schema = StructType([ \\\n",
    "        StructField(\"TeamName\",StringType(),True), \\\n",
    "        StructField(\"Wins\",IntegerType(),True), \\\n",
    "        StructField(\"Draws\",IntegerType(),True), \\\n",
    "        StructField(\"Loses\",IntegerType(), True), \\\n",
    "        StructField(\"Points\",IntegerType(), True), \\\n",
    "      ])\n",
    "\n",
    "    Team_df = my_spark.createDataFrame(data=pointsTable,schema=schema)\n",
    "    Team_df = Team_df.sort(Team_df.Points.desc())\n",
    "    labelling_team = {}\n",
    "    lst=[]\n",
    "    k=1\n",
    "    for i in Team_df.collect():\n",
    "        labelling_team[i.TeamName]=k\n",
    "        k+=1\n",
    "    return Team_df,labelling_team"
   ]
  },
  {
   "cell_type": "markdown",
   "metadata": {},
   "source": [
    "Calculating Home Attacking Strength,Home Defensive Strength,Away Attacking Strength,Away Defensive Strength of Each Team\n",
    "can be done using calculate_AS_DS() declared above\n"
   ]
  },
  {
   "cell_type": "code",
   "execution_count": 24,
   "metadata": {},
   "outputs": [],
   "source": [
    "#preparing our dataframe for performing ML Algorithms\n",
    "from pyspark.sql import functions as f\n",
    "from pyspark.sql.types import FloatType\n",
    "\n",
    "def preparingForTraining(Team_Stats,labelling_team,df):\n",
    "    \n",
    "    team_Dict={}\n",
    "    for i in Team_Stats.collect():\n",
    "        team_Dict[i[0]]=(i[2],i[4],i[6],i[8])\n",
    "    \n",
    "    data = []\n",
    "\n",
    "    for i in df.select(['HomeTeam','AwayTeam','HST','AST','FTR']).collect():\n",
    "        lst=[]\n",
    "        lst.append(labelling_team[i[0]])\n",
    "        lst.append(labelling_team[i[1]])\n",
    "        lst.append(team_Dict[i[0]][0])\n",
    "        lst.append(team_Dict[i[0]][1])\n",
    "        lst.append(team_Dict[i[1]][2])\n",
    "        lst.append(team_Dict[i[1]][3])\n",
    "        lst.append(i[2])\n",
    "        lst.append(i[3])\n",
    "        lst.append(i[4])\n",
    "        data.append(tuple(lst))\n",
    "\n",
    "\n",
    "    \n",
    "    schema = StructType([ \\\n",
    "        StructField(\"HT\",IntegerType(),True), \\\n",
    "        StructField(\"AT\",IntegerType(),True), \\\n",
    "        StructField(\"HAS\",FloatType(),True), \\\n",
    "        StructField(\"HDS\",FloatType(), True), \\\n",
    "        StructField(\"AAS\",FloatType(), True), \\\n",
    "        StructField(\"ADS\",FloatType(), True), \\\n",
    "        StructField(\"HST\",IntegerType(), True), \\\n",
    "        StructField(\"AST\",IntegerType(), True), \\\n",
    "        StructField(\"FTR\",StringType(), True), \\\n",
    "      ]) \n",
    "\n",
    "    Training_df = my_spark.createDataFrame(data=data,schema=schema) \n",
    "    Training_df=Training_df.withColumn('R',f.when((f.col('FTR') == 'H'),1).when((f.col('FTR') == 'A'),2).otherwise(0))\n",
    "    Training_df=Training_df.drop('FTR')\n",
    "    return Training_df\n",
    "\n",
    "    "
   ]
  },
  {
   "cell_type": "code",
   "execution_count": 25,
   "metadata": {},
   "outputs": [],
   "source": [
    "from pyspark.ml.feature import VectorAssembler\n",
    "def VectorforTrainingSet(Training_df):\n",
    "    required_features = ['HT','AT','HAS','HDS','AAS','ADS','HST','AST']\n",
    "    vector_assembler = VectorAssembler(inputCols=required_features,outputCol = 'features')\n",
    "    vec_df= vector_assembler.transform(Training_df)\n",
    "    return vec_df,vector_assembler"
   ]
  },
  {
   "cell_type": "code",
   "execution_count": 26,
   "metadata": {},
   "outputs": [],
   "source": [
    "#vec_df data is trained using Decision tree classifier model\n",
    "from pyspark.ml.classification import DecisionTreeClassifier,RandomForestClassifier,NaiveBayes,LogisticRegression\n",
    "def retDecisionTreeModel(vec_df):\n",
    "    dt = DecisionTreeClassifier(featuresCol='features',labelCol = 'R',maxDepth = 4)\n",
    "    dt_Model = dt.fit(vec_df)\n",
    "    return dt_Model\n",
    "\n",
    "def retRandomForestModel(vec_df):\n",
    "    rf = RandomForestClassifier(featuresCol='features',labelCol = 'R')\n",
    "    rf_Model = rf.fit(vec_df)\n",
    "    return rf_Model\n",
    "\n",
    "def retNaiveBayesModel(vec_df):\n",
    "    nb = NaiveBayes()\n",
    "    vec_df=vec_df.withColumnRenamed('R','label')\n",
    "    Model = nb.fit(vec_df)\n",
    "    return Model\n",
    "\n",
    "def retLogisticRegressionModel(vec_df):\n",
    "    lr = LogisticRegression(featuresCol='features',labelCol='R')\n",
    "    lr_Model = lr.fit(vec_df)\n",
    "    return lr_Model\n",
    "\n",
    "#we need to generate test set(Next season) for prediction"
   ]
  },
  {
   "cell_type": "code",
   "execution_count": 27,
   "metadata": {},
   "outputs": [],
   "source": [
    "#test set generation\n",
    "def generateTestSet(collection):\n",
    "    test_df = my_spark.read.format(\"mongo\").option(\"uri\",\"mongodb://127.0.0.1/LeagueStats.\"+collection).load()\n",
    "    Team_Stats = calculate_AS_DS(test_df)\n",
    "    return test_df,Team_Stats"
   ]
  },
  {
   "cell_type": "code",
   "execution_count": 28,
   "metadata": {},
   "outputs": [],
   "source": [
    "def preparingForTesting(Team_Stats,test_df,labelling_team):\n",
    "    team_Dict={}\n",
    "    for i in Team_Stats.collect():\n",
    "        team_Dict[i[0]]=(i[2],i[4],i[6],i[8])\n",
    "    data = []\n",
    "\n",
    "    no_of_teams = test_df.select('HomeTeam').distinct().count()\n",
    "    k=0\n",
    "    for i in test_df.select(['HomeTeam','AwayTeam','HST','AST','FTR']).collect():\n",
    "        lst=[]\n",
    "        if labelling_team.get(i[0]) is not None:\n",
    "            lst.append(labelling_team[i[0]])\n",
    "        else:\n",
    "            labelling_team[i[0]]=(no_of_teams-2)+k\n",
    "            lst.append(labelling_team[i[0]])\n",
    "            k+=1\n",
    "        if labelling_team.get(i[1]) is not None:   \n",
    "            lst.append(labelling_team[i[1]])\n",
    "        else:\n",
    "            labelling_team[i[1]]=(no_of_teams-2)+k\n",
    "            lst.append(labelling_team[i[1]])\n",
    "            k+=1\n",
    "        lst.append(team_Dict[i[0]][0])\n",
    "        lst.append(team_Dict[i[0]][1])\n",
    "        lst.append(team_Dict[i[1]][2])\n",
    "        lst.append(team_Dict[i[1]][3])\n",
    "        lst.append(i[2])\n",
    "        lst.append(i[3])\n",
    "        data.append(tuple(lst))\n",
    "\n",
    "    \n",
    "    schema = StructType([ \\\n",
    "        StructField(\"HT\",IntegerType(),True), \\\n",
    "        StructField(\"AT\",IntegerType(),True), \\\n",
    "        StructField(\"HAS\",FloatType(),True), \\\n",
    "        StructField(\"HDS\",FloatType(), True), \\\n",
    "        StructField(\"AAS\",FloatType(), True), \\\n",
    "        StructField(\"ADS\",FloatType(), True), \\\n",
    "        StructField(\"HST\",IntegerType(), True), \\\n",
    "        StructField(\"AST\",IntegerType(), True), \\\n",
    "      ]) \n",
    "\n",
    "    Training_df = my_spark.createDataFrame(data=data,schema=schema) \n",
    "\n",
    "    return Training_df"
   ]
  },
  {
   "cell_type": "code",
   "execution_count": 29,
   "metadata": {},
   "outputs": [],
   "source": [
    "def vectorForTesting(Training_df,vector_assembler):\n",
    "    vec_test_df= vector_assembler.transform(Training_df)\n",
    "    return vec_test_df\n",
    "    "
   ]
  },
  {
   "cell_type": "code",
   "execution_count": 30,
   "metadata": {},
   "outputs": [],
   "source": [
    "def retPrediction(Model,vec_test_df):\n",
    "    y_pred_dt = Model.transform(vec_test_df)\n",
    "    y_pred_dt=y_pred_dt.withColumn('FTR',f.when(f.col('prediction') == 0 ,'D').when(f.col('prediction') ==1,'H').otherwise('A'))\n",
    "    return y_pred_dt"
   ]
  },
  {
   "cell_type": "code",
   "execution_count": 31,
   "metadata": {},
   "outputs": [],
   "source": [
    "def getAccuracy(test_df,y_pred_dt):\n",
    "    Original_results=test_df.select('FTR').collect()\n",
    "    predicted_results = y_pred_dt.select('FTR').collect()\n",
    "    count=0\n",
    "    for i in range(len(predicted_results)):\n",
    "        if predicted_results[i][0] == Original_results[i][0]:\n",
    "            count+=1\n",
    "    Accuracy = count/380\n",
    "    return Accuracy\n",
    "        "
   ]
  },
  {
   "cell_type": "code",
   "execution_count": 32,
   "metadata": {},
   "outputs": [],
   "source": [
    "def calcRMSE(actual,predicted):\n",
    "    rmse = 0\n",
    "    for i in range(len(actual)):\n",
    "        rmse += ((predicted[i][0]-actual[i][0])**2)\n",
    "    rmse = rmse/len(actual)\n",
    "    return (rmse**0.5)"
   ]
  },
  {
   "cell_type": "code",
   "execution_count": 33,
   "metadata": {},
   "outputs": [],
   "source": [
    "def calculateActualTable(test_df):\n",
    "    #for calculating rmse first we need to compute PL2020-21 Points table\n",
    "    Team_Names=test_df.select('HomeTeam').distinct().collect()\n",
    "    no_of_teams = len(Team_Names)\n",
    "    pointsTable = []\n",
    "    for team in Team_Names:\n",
    "        wins = test_df.filter(((test_df['HomeTeam']==team.HomeTeam)&(test_df['FTR']=='H'))|((test_df['AwayTeam']==team.HomeTeam)&(test_df['FTR']=='A'))).count()\n",
    "        draws = test_df.filter(((test_df['HomeTeam']==team.HomeTeam)&(test_df['FTR']=='D'))|((test_df['AwayTeam']==team.HomeTeam)&(test_df['FTR']=='D'))).count()\n",
    "        loses = 2*(no_of_teams-1)-wins-draws\n",
    "        points = wins*3+draws\n",
    "        tup = (team.HomeTeam,wins,draws,loses,points)\n",
    "        pointsTable.append(tup)\n",
    "\n",
    "    schema = StructType([ \\\n",
    "        StructField(\"TeamName\",StringType(),True), \\\n",
    "        StructField(\"Wins\",IntegerType(),True), \\\n",
    "        StructField(\"Draws\",IntegerType(),True), \\\n",
    "        StructField(\"Loses\",IntegerType(), True), \\\n",
    "        StructField(\"Points\",IntegerType(), True), \\\n",
    "      ])\n",
    "\n",
    "    real_points_df = my_spark.createDataFrame(data=pointsTable,schema=schema)\n",
    "    return real_points_df\n",
    "    "
   ]
  },
  {
   "cell_type": "code",
   "execution_count": 34,
   "metadata": {},
   "outputs": [],
   "source": [
    "def calculateRMSE(test_df,real_points_df,y_pred_dt,labelling_team):\n",
    "    \n",
    "    \n",
    "\n",
    "    #computing pl2020-21 table based on predicted results\n",
    "    pointsTable = []\n",
    "    Team_Names=test_df.select('HomeTeam').distinct().collect()\n",
    "    no_of_teams = len(Team_Names)\n",
    "    test_df = y_pred_dt.select(['HT','AT','FTR'])\n",
    "\n",
    "    for team in Team_Names:\n",
    "        team_no = labelling_team[team[0]]\n",
    "        wins = test_df.filter(((test_df['HT']== team_no)&(test_df['FTR']=='H'))|((test_df['AT']==team_no)&(test_df['FTR']=='A'))).count()    \n",
    "        draws = test_df.filter(((test_df['HT']==team_no)&(test_df['FTR']=='D'))|((test_df['AT']==team_no)&(test_df['FTR']=='D'))).count()\n",
    "        loses = 2*(no_of_teams-1)-wins-draws\n",
    "        points = wins*3+draws\n",
    "        tup = (team.HomeTeam,wins,draws,loses,points)\n",
    "        pointsTable.append(tup)\n",
    "    \n",
    "    schema = StructType([ \\\n",
    "        StructField(\"TeamName\",StringType(),True), \\\n",
    "        StructField(\"Wins\",IntegerType(),True), \\\n",
    "        StructField(\"Draws\",IntegerType(),True), \\\n",
    "        StructField(\"Loses\",IntegerType(), True), \\\n",
    "        StructField(\"Points\",IntegerType(), True), \\\n",
    "      ])\n",
    "    \n",
    "    predicted_points_df = my_spark.createDataFrame(data=pointsTable,schema=schema)\n",
    "    predicted_points_df.sort(predicted_points_df.Points.desc()).show()\n",
    "    \n",
    "    RMSE = calcRMSE(real_points_df.select('Points').collect(),predicted_points_df.select('Points').collect())\n",
    "\n",
    "    return RMSE"
   ]
  },
  {
   "cell_type": "code",
   "execution_count": 35,
   "metadata": {},
   "outputs": [],
   "source": [
    "def computeMLForLeagues(df,coll):\n",
    "    Team_df,labelling_team = ComputePointsTable(df)\n",
    "    Team_Stats = calculate_AS_DS(df)\n",
    "    Training_df = preparingForTraining(Team_Stats,labelling_team,df)\n",
    "    vec_df,vector_assembler = VectorforTrainingSet(Training_df)\n",
    "    DecisionTreeModel = retDecisionTreeModel(vec_df)\n",
    "    RandomForestModel = retRandomForestModel(vec_df)\n",
    "    NaiveBayesModel = retNaiveBayesModel(vec_df)\n",
    "    LogisticRegressionModel = retLogisticRegressionModel(vec_df)\n",
    "\n",
    "    test_df,Team_Stats = generateTestSet(coll)\n",
    "    Training_df = preparingForTesting(Team_Stats,test_df,labelling_team)\n",
    "    vec_test_df = vectorForTesting(Training_df,vector_assembler)\n",
    "    y_pred_dt = retPrediction(DecisionTreeModel,vec_test_df) \n",
    "    y_pred_rf = retPrediction(RandomForestModel,vec_test_df)\n",
    "    y_pred_nb = retPrediction(NaiveBayesModel,vec_test_df)\n",
    "    y_pred_lr = retPrediction(LogisticRegressionModel,vec_test_df)\n",
    "    Accuracy_dt = getAccuracy(test_df,y_pred_dt)\n",
    "    Accuracy_rf = getAccuracy(test_df,y_pred_rf)\n",
    "    Accuracy_nb = getAccuracy(test_df,y_pred_nb)\n",
    "    Accuracy_lr = getAccuracy(test_df,y_pred_lr)\n",
    "    actual_p_table = calculateActualTable(test_df)\n",
    "    print(\" 2020-21 Points table using DecisionTreeClassifier\")\n",
    "    rmse_dt = calculateRMSE(test_df,actual_p_table,y_pred_dt,labelling_team)\n",
    "    print(\" 2020-21 Points table using RandomForestClassifier\")\n",
    "    rmse_rf = calculateRMSE(test_df,actual_p_table,y_pred_rf,labelling_team)\n",
    "    print(\" 2020-21 Points table using NaiveBayesClassifier\")\n",
    "    rmse_nb = calculateRMSE(test_df,actual_p_table,y_pred_nb,labelling_team)\n",
    "    print(\" 2020-21 Points table using LogisticRegressionClassifier\")\n",
    "    rmse_lr = calculateRMSE(test_df,actual_p_table,y_pred_lr,labelling_team)\n",
    "    return Accuracy_dt,Accuracy_rf,Accuracy_nb,Accuracy_lr,rmse_dt,rmse_rf,rmse_nb,rmse_lr"
   ]
  },
  {
   "cell_type": "markdown",
   "metadata": {},
   "source": [
    "# Premier League\n",
    "\n",
    "### 2019-20 Points Table\n",
    "\n",
    "|        TeamName|Wins|Draws|Loses|Points| \n",
    "| --- | --- | --- | --- | --- |\n",
    "|       Liverpool|  32|    3|    3|    99|\n",
    "|        Man City|  26|    3|    9|    81| \n",
    "|      Man United|  18|   12|    8|    66| \n",
    "|         Chelsea|  20|    6|   12|    66| \n",
    "|       Leicester|  18|    8|   12|    62| \n",
    "|          Wolves|  15|   14|    9|    59| \n",
    "|       Tottenham|  16|   11|   11|    59| \n",
    "|         Arsenal|  14|   14|   10|    56| \n",
    "|Sheffield United|  14|   12|   12|    54| \n",
    "|         Burnley|  15|    9|   14|    54| \n",
    "|     Southampton|  15|    7|   16|    52| \n",
    "|         Everton|  13|   10|   15|    49| \n",
    "|       Newcastle|  11|   11|   16|    44| \n",
    "|  Crystal Palace|  11|   10|   17|    43| \n",
    "|        Brighton|   9|   14|   15|    41| \n",
    "|        West Ham|  10|    9|   19|    39| \n",
    "|     Aston Villa|   9|    8|   21|    35| \n",
    "|     Bournemouth|   9|    7|   22|    34| \n",
    "|         Watford|   8|   10|   20|    34| \n",
    "|         Norwich|   5|    6|   27|    21| \n",
    "\n",
    "### 2020-21 Actual Points Table\n",
    "\n",
    "\n",
    "|        TeamName|Wins|Draws|Loses|Points| \n",
    "| --- | --- | --- | --- | --- |\n",
    "|        Man City|  27|    5|    6|    86| \n",
    "|      Man United|  21|   11|    6|    74| \n",
    "|       Liverpool|  20|    9|    9|    69| \n",
    "|         Chelsea|  19|   10|    9|    67| \n",
    "|       Leicester|  20|    6|   12|    66| \n",
    "|        West Ham|  19|    8|   11|    65| \n",
    "|       Tottenham|  18|    8|   12|    62| \n",
    "|         Arsenal|  18|    7|   13|    61| \n",
    "|         Everton|  17|    8|   13|    59| \n",
    "|           Leeds|  18|    5|   15|    59| \n",
    "|     Aston Villa|  16|    7|   15|    55| \n",
    "|          Wolves|  12|    9|   17|    45| \n",
    "|       Newcastle|  12|    9|   17|    45| \n",
    "|  Crystal Palace|  12|    8|   18|    44| \n",
    "|     Southampton|  12|    7|   19|    43| \n",
    "|        Brighton|   9|   14|   15|    41| \n",
    "|         Burnley|  10|    9|   19|    39| \n",
    "|          Fulham|   5|   13|   20|    28| \n",
    "|       West Brom|   5|   11|   22|    26| \n",
    "|Sheffield United|   7|    2|   29|    23| "
   ]
  },
  {
   "cell_type": "code",
   "execution_count": 36,
   "metadata": {},
   "outputs": [
    {
     "name": "stdout",
     "output_type": "stream",
     "text": [
      " 2020-21 Points table using DecisionTreeClassifier\n",
      "+----------------+----+-----+-----+------+\n",
      "|        TeamName|Wins|Draws|Loses|Points|\n",
      "+----------------+----+-----+-----+------+\n",
      "|        Man City|  26|   10|    2|    88|\n",
      "|       Liverpool|  23|   12|    3|    81|\n",
      "|      Man United|  16|   20|    2|    68|\n",
      "|       Leicester|  16|   19|    3|    67|\n",
      "|         Chelsea|  16|   16|    6|    64|\n",
      "|         Everton|  11|   21|    6|    54|\n",
      "|         Arsenal|  10|   21|    7|    51|\n",
      "|     Southampton|  11|   18|    9|    51|\n",
      "|       Tottenham|  11|   17|   10|    50|\n",
      "|        Brighton|   8|   23|    7|    47|\n",
      "|          Wolves|   8|   23|    7|    47|\n",
      "|  Crystal Palace|   6|   24|    8|    42|\n",
      "|       Newcastle|   6|   22|   10|    40|\n",
      "|         Burnley|   7|   17|   14|    38|\n",
      "|        West Ham|   7|   16|   15|    37|\n",
      "|           Leeds|   8|   13|   17|    37|\n",
      "|     Aston Villa|   6|   13|   19|    31|\n",
      "|Sheffield United|   3|   21|   14|    30|\n",
      "|          Fulham|   5|   13|   20|    28|\n",
      "|       West Brom|   3|    7|   28|    16|\n",
      "+----------------+----+-----+-----+------+\n",
      "\n",
      " 2020-21 Points table using RandomForestClassifier\n",
      "+----------------+----+-----+-----+------+\n",
      "|        TeamName|Wins|Draws|Loses|Points|\n",
      "+----------------+----+-----+-----+------+\n",
      "|        Man City|  33|    3|    2|   102|\n",
      "|      Man United|  28|    5|    5|    89|\n",
      "|       Liverpool|  29|    0|    9|    87|\n",
      "|         Chelsea|  26|    5|    7|    83|\n",
      "|       Leicester|  24|    6|    8|    78|\n",
      "|         Arsenal|  18|   11|    9|    65|\n",
      "|        West Ham|  19|    2|   17|    59|\n",
      "|       Tottenham|  17|    7|   14|    58|\n",
      "|         Everton|  16|    8|   14|    56|\n",
      "|          Wolves|  14|   11|   13|    53|\n",
      "|     Southampton|  15|    4|   19|    49|\n",
      "|         Burnley|  14|    7|   17|    49|\n",
      "|        Brighton|  13|    9|   16|    48|\n",
      "|           Leeds|  15|    3|   20|    48|\n",
      "|       Newcastle|  14|    2|   22|    44|\n",
      "|     Aston Villa|   9|    4|   25|    31|\n",
      "|  Crystal Palace|   8|    4|   26|    28|\n",
      "|Sheffield United|   7|    6|   25|    27|\n",
      "|          Fulham|   5|    7|   26|    22|\n",
      "|       West Brom|   4|    0|   34|    12|\n",
      "+----------------+----+-----+-----+------+\n",
      "\n",
      " 2020-21 Points table using NaiveBayesClassifier\n",
      "+----------------+----+-----+-----+------+\n",
      "|        TeamName|Wins|Draws|Loses|Points|\n",
      "+----------------+----+-----+-----+------+\n",
      "|        Man City|  37|    0|    1|   111|\n",
      "|       Liverpool|  36|    0|    2|   108|\n",
      "|      Man United|  32|    0|    6|    96|\n",
      "|         Chelsea|  32|    0|    6|    96|\n",
      "|       Leicester|  29|    0|    9|    87|\n",
      "|       Tottenham|  27|    1|   10|    82|\n",
      "|          Wolves|  22|    4|   12|    70|\n",
      "|         Arsenal|  22|    3|   13|    69|\n",
      "|         Burnley|  14|   10|   14|    52|\n",
      "|     Southampton|  12|    9|   17|    45|\n",
      "|         Everton|  10|   14|   14|    44|\n",
      "|Sheffield United|   8|   11|   19|    35|\n",
      "|       Newcastle|   8|   10|   20|    34|\n",
      "|        Brighton|   6|   12|   20|    30|\n",
      "|        West Ham|   5|   13|   20|    28|\n",
      "|  Crystal Palace|   6|    8|   24|    26|\n",
      "|     Aston Villa|   4|   12|   22|    24|\n",
      "|           Leeds|   1|   12|   25|    15|\n",
      "|          Fulham|   1|   11|   26|    14|\n",
      "|       West Brom|   0|    6|   32|     6|\n",
      "+----------------+----+-----+-----+------+\n",
      "\n",
      " 2020-21 Points table using LogisticRegressionClassifier\n",
      "+----------------+----+-----+-----+------+\n",
      "|        TeamName|Wins|Draws|Loses|Points|\n",
      "+----------------+----+-----+-----+------+\n",
      "|        Man City|  35|    1|    2|   106|\n",
      "|         Chelsea|  29|    3|    6|    90|\n",
      "|       Liverpool|  29|    1|    8|    88|\n",
      "|      Man United|  26|    4|    8|    82|\n",
      "|       Leicester|  25|    1|   12|    76|\n",
      "|       Tottenham|  21|    2|   15|    65|\n",
      "|        West Ham|  20|    1|   17|    61|\n",
      "|         Arsenal|  18|    5|   15|    59|\n",
      "|          Wolves|  16|   11|   11|    59|\n",
      "|     Aston Villa|  18|    3|   17|    57|\n",
      "|        Brighton|  15|    9|   14|    54|\n",
      "|         Everton|  15|    8|   15|    53|\n",
      "|     Southampton|  16|    3|   19|    51|\n",
      "|           Leeds|  14|    4|   20|    46|\n",
      "|       Newcastle|  14|    2|   22|    44|\n",
      "|         Burnley|   8|    8|   22|    32|\n",
      "|  Crystal Palace|   8|    2|   28|    26|\n",
      "|          Fulham|   5|    7|   26|    22|\n",
      "|Sheffield United|   3|    9|   26|    18|\n",
      "|       West Brom|   2|    2|   34|     8|\n",
      "+----------------+----+-----+-----+------+\n",
      "\n"
     ]
    }
   ],
   "source": [
    "Results = []\n",
    "df = my_spark.read.format(\"mongo\").option(\"uri\",\"mongodb://127.0.0.1/LeagueStats.PL2020\").load()\n",
    "Accuracy_dt,Accuracy_rf,Accuracy_nb,Accuracy_lr,rmse_dt,rmse_rf,rmse_nb,rmse_lr =computeMLForLeagues(df,\"PL2021\")\n",
    "lst = []\n",
    "lst.append(\"Premier League\")\n",
    "lst.append(Accuracy_dt)\n",
    "lst.append(Accuracy_rf)\n",
    "lst.append(Accuracy_nb)\n",
    "lst.append(Accuracy_lr)\n",
    "lst.append(rmse_dt)\n",
    "lst.append(rmse_rf)\n",
    "lst.append(rmse_nb)\n",
    "lst.append(rmse_lr)\n",
    "Results.append(lst)"
   ]
  },
  {
   "cell_type": "markdown",
   "metadata": {},
   "source": [
    "# La Liga\n",
    "\n",
    "### 2019-20 Points Table\n",
    "\n",
    "|   TeamName|Wins|Draws|Loses|Points|\n",
    "| --- | --- | --- | --- | --- |\n",
    "|Real Madrid|  26|    9|    3|    87|\n",
    "|  Barcelona|  25|    7|    6|    82|\n",
    "| Ath Madrid|  18|   16|    4|    70|\n",
    "|    Sevilla|  19|   13|    6|    70|\n",
    "| Villarreal|  18|    6|   14|    60|\n",
    "|   Sociedad|  16|    8|   14|    56|\n",
    "|    Granada|  16|    8|   14|    56|\n",
    "|     Getafe|  14|   12|   12|    54|\n",
    "|   Valencia|  14|   11|   13|    53|\n",
    "|    Osasuna|  13|   13|   12|    52|\n",
    "| Ath Bilbao|  13|   12|   13|    51|\n",
    "|    Levante|  14|    7|   17|    49|\n",
    "|      Eibar|  11|    9|   18|    42|\n",
    "| Valladolid|   9|   15|   14|    42|\n",
    "|      Betis|  10|   11|   17|    41|\n",
    "|     Alaves|  10|    9|   19|    39|\n",
    "|      Celta|   7|   16|   15|    37|\n",
    "|    Leganes|   8|   12|   18|    36|\n",
    "|   Mallorca|   9|    6|   23|    33|\n",
    "|    Espanol|   5|   10|   23|    25|\n",
    "\n",
    "### 2020-21 Actual Points Table\n",
    "\n",
    "|   TeamName|Wins|Draws|Loses|Points|\n",
    "| --- | --- | --- | --- | --- |\n",
    "| Ath Madrid|  26|    8|    4|    86|\n",
    "|Real Madrid|  25|    9|    4|    84|\n",
    "|  Barcelona|  24|    7|    7|    79|\n",
    "|    Sevilla|  24|    5|    9|    77|\n",
    "|   Sociedad|  17|   11|   10|    62|\n",
    "|      Betis|  17|   10|   11|    61|\n",
    "| Villarreal|  15|   13|   10|    58|\n",
    "|      Celta|  14|   11|   13|    53|\n",
    "| Ath Bilbao|  11|   13|   14|    46|\n",
    "|    Granada|  13|    7|   18|    46|\n",
    "|      Cadiz|  11|   11|   16|    44|\n",
    "|    Osasuna|  11|   11|   16|    44|\n",
    "|   Valencia|  10|   13|   15|    43|\n",
    "|    Levante|   9|   14|   15|    41|\n",
    "|     Getafe|   9|   11|   18|    38|\n",
    "|     Alaves|   9|   11|   18|    38|\n",
    "|      Elche|   8|   12|   18|    36|\n",
    "|     Huesca|   7|   13|   18|    34|\n",
    "| Valladolid|   5|   16|   17|    31|\n",
    "|      Eibar|   6|   12|   20|    30|\n"
   ]
  },
  {
   "cell_type": "code",
   "execution_count": 37,
   "metadata": {},
   "outputs": [
    {
     "name": "stdout",
     "output_type": "stream",
     "text": [
      " 2020-21 Points table using DecisionTreeClassifier\n",
      "+-----------+----+-----+-----+------+\n",
      "|   TeamName|Wins|Draws|Loses|Points|\n",
      "+-----------+----+-----+-----+------+\n",
      "|  Barcelona|  25|    8|    5|    83|\n",
      "|   Sociedad|  21|   11|    6|    74|\n",
      "|Real Madrid|  20|   13|    5|    73|\n",
      "| Villarreal|  21|    9|    8|    72|\n",
      "| Ath Madrid|  16|   16|    6|    64|\n",
      "|    Sevilla|  16|   12|   10|    60|\n",
      "|     Getafe|  15|   12|   11|    57|\n",
      "|      Betis|  18|    2|   18|    56|\n",
      "|    Levante|  17|    4|   17|    55|\n",
      "| Ath Bilbao|  16|    5|   17|    53|\n",
      "|   Valencia|  15|    8|   15|    53|\n",
      "|    Osasuna|  13|   12|   13|    51|\n",
      "|    Granada|  13|    8|   17|    47|\n",
      "|      Eibar|  14|    5|   19|    47|\n",
      "|      Celta|  13|    7|   18|    46|\n",
      "|     Alaves|  11|    5|   22|    38|\n",
      "|     Huesca|   9|    8|   21|    35|\n",
      "| Valladolid|  10|    5|   23|    35|\n",
      "|      Cadiz|  10|    5|   23|    35|\n",
      "|      Elche|   7|    5|   26|    26|\n",
      "+-----------+----+-----+-----+------+\n",
      "\n",
      " 2020-21 Points table using RandomForestClassifier\n",
      "+-----------+----+-----+-----+------+\n",
      "|   TeamName|Wins|Draws|Loses|Points|\n",
      "+-----------+----+-----+-----+------+\n",
      "|  Barcelona|  28|    7|    3|    91|\n",
      "|Real Madrid|  27|    9|    2|    90|\n",
      "| Ath Madrid|  27|    9|    2|    90|\n",
      "| Villarreal|  26|    4|    8|    82|\n",
      "|    Sevilla|  24|    6|    8|    78|\n",
      "|   Sociedad|  23|    7|    8|    76|\n",
      "| Ath Bilbao|  17|    7|   14|    58|\n",
      "|      Betis|  14|   11|   13|    53|\n",
      "|    Levante|  16|    4|   18|    52|\n",
      "|     Getafe|  14|   10|   14|    52|\n",
      "|    Granada|  15|    4|   19|    49|\n",
      "|      Eibar|  12|   11|   15|    47|\n",
      "|   Valencia|  15|    2|   21|    47|\n",
      "|    Osasuna|  12|    9|   17|    45|\n",
      "|      Celta|  13|    4|   21|    43|\n",
      "| Valladolid|   6|   11|   21|    29|\n",
      "|     Alaves|   6|    9|   23|    27|\n",
      "|     Huesca|   6|    9|   23|    27|\n",
      "|      Elche|   1|   11|   26|    14|\n",
      "|      Cadiz|   1|   10|   27|    13|\n",
      "+-----------+----+-----+-----+------+\n",
      "\n",
      " 2020-21 Points table using NaiveBayesClassifier\n",
      "+-----------+----+-----+-----+------+\n",
      "|   TeamName|Wins|Draws|Loses|Points|\n",
      "+-----------+----+-----+-----+------+\n",
      "|Real Madrid|  38|    0|    0|   114|\n",
      "|  Barcelona|  36|    0|    2|   108|\n",
      "| Ath Madrid|  32|    0|    6|    96|\n",
      "|    Sevilla|  31|    1|    6|    94|\n",
      "| Villarreal|  30|    0|    8|    90|\n",
      "|   Sociedad|  25|    3|   10|    78|\n",
      "|    Granada|  20|    6|   12|    66|\n",
      "|     Getafe|  16|    8|   14|    56|\n",
      "|    Osasuna|  15|   10|   13|    55|\n",
      "|   Valencia|  16|    7|   15|    55|\n",
      "| Ath Bilbao|  13|   12|   13|    51|\n",
      "|    Levante|   8|   12|   18|    36|\n",
      "|      Eibar|   5|   15|   18|    30|\n",
      "|      Betis|   3|   15|   20|    24|\n",
      "|      Celta|   2|   16|   20|    22|\n",
      "| Valladolid|   1|   16|   21|    19|\n",
      "|     Alaves|   1|   14|   23|    17|\n",
      "|     Huesca|   0|   16|   22|    16|\n",
      "|      Cadiz|   0|   13|   25|    13|\n",
      "|      Elche|   0|   12|   26|    12|\n",
      "+-----------+----+-----+-----+------+\n",
      "\n",
      " 2020-21 Points table using LogisticRegressionClassifier\n",
      "+-----------+----+-----+-----+------+\n",
      "|   TeamName|Wins|Draws|Loses|Points|\n",
      "+-----------+----+-----+-----+------+\n",
      "|  Barcelona|  33|    1|    4|   100|\n",
      "| Ath Madrid|  29|    7|    2|    94|\n",
      "|Real Madrid|  27|    9|    2|    90|\n",
      "|    Sevilla|  26|    6|    6|    84|\n",
      "| Villarreal|  23|    6|    9|    75|\n",
      "|   Sociedad|  20|   11|    7|    71|\n",
      "| Ath Bilbao|  19|   12|    7|    69|\n",
      "|      Betis|  18|    6|   14|    60|\n",
      "|    Osasuna|  15|   10|   13|    55|\n",
      "|   Valencia|  17|    1|   20|    52|\n",
      "|     Getafe|  12|   15|   11|    51|\n",
      "|    Levante|  11|    8|   19|    41|\n",
      "|    Granada|  11|    6|   21|    39|\n",
      "|     Huesca|  11|    6|   21|    39|\n",
      "|      Celta|  11|    4|   23|    37|\n",
      "|      Eibar|   8|   13|   17|    37|\n",
      "|     Alaves|   7|    4|   27|    25|\n",
      "| Valladolid|   3|   12|   23|    21|\n",
      "|      Elche|   4|    4|   30|    16|\n",
      "|      Cadiz|   2|    5|   31|    11|\n",
      "+-----------+----+-----+-----+------+\n",
      "\n"
     ]
    }
   ],
   "source": [
    "df = my_spark.read.format(\"mongo\").option(\"uri\",\"mongodb://127.0.0.1/LeagueStats.LaLiga2020\").load()\n",
    "Accuracy_dt,Accuracy_rf,Accuracy_nb,Accuracy_lr,rmse_dt,rmse_rf,rmse_nb,rmse_lr = computeMLForLeagues(df,\"LaLiga2021\")\n",
    "lst = []\n",
    "lst.append(\"La Liga\")\n",
    "lst.append(Accuracy_dt)\n",
    "lst.append(Accuracy_rf)\n",
    "lst.append(Accuracy_nb)\n",
    "lst.append(Accuracy_lr)\n",
    "lst.append(rmse_dt)\n",
    "lst.append(rmse_rf)\n",
    "lst.append(rmse_nb)\n",
    "lst.append(rmse_lr)\n",
    "Results.append(lst)"
   ]
  },
  {
   "cell_type": "markdown",
   "metadata": {},
   "source": [
    "# Serie-A\n",
    "\n",
    "### 2019-20 Points Table\n",
    "\n",
    "|  TeamName|Wins|Draws|Loses|Points|\n",
    "| --- | --- | --- | --- | --- |\n",
    "|  Juventus|  26|    5|    7|    83|\n",
    "|     Inter|  24|   10|    4|    82|\n",
    "|     Lazio|  24|    6|    8|    78|\n",
    "|  Atalanta|  23|    9|    6|    78|\n",
    "|      Roma|  21|    7|   10|    70|\n",
    "|     Milan|  19|    9|   10|    66|\n",
    "|    Napoli|  18|    8|   12|    62|\n",
    "|  Sassuolo|  14|    9|   15|    51|\n",
    "|    Verona|  12|   13|   13|    49|\n",
    "|Fiorentina|  12|   13|   13|    49|\n",
    "|     Parma|  14|    7|   17|    49|\n",
    "|   Bologna|  12|   11|   15|    47|\n",
    "|  Cagliari|  11|   12|   15|    45|\n",
    "|   Udinese|  12|    9|   17|    45|\n",
    "| Sampdoria|  12|    6|   20|    42|\n",
    "|    Torino|  11|    7|   20|    40|\n",
    "|     Genoa|  10|    9|   19|    39|\n",
    "|     Lecce|   9|    8|   21|    35|\n",
    "|   Brescia|   6|    7|   25|    25|\n",
    "|      Spal|   5|    5|   28|    20|\n",
    "\n",
    "### 2020-21 Actual Points Table\n",
    "\n",
    "|  TeamName|Wins|Draws|Loses|Points|\n",
    "| --- | --- | --- | --- | --- |\n",
    "|     Inter|  28|    7|    3|    91|\n",
    "|     Milan|  24|    7|    7|    79|\n",
    "|  Atalanta|  23|    9|    6|    78|\n",
    "|  Juventus|  23|    9|    6|    78|\n",
    "|    Napoli|  24|    5|    9|    77|\n",
    "|     Lazio|  21|    5|   12|    68|\n",
    "|      Roma|  18|    9|   11|    63|\n",
    "|  Sassuolo|  17|   11|   10|    62|\n",
    "| Sampdoria|  15|    7|   16|    52|\n",
    "|    Verona|  10|   13|   15|    43|\n",
    "|     Genoa|  10|   12|   16|    42|\n",
    "|   Bologna|  10|   11|   17|    41|\n",
    "|Fiorentina|   9|   13|   16|    40|\n",
    "|   Udinese|  10|   10|   18|    40|\n",
    "|    Spezia|   9|   12|   17|    39|\n",
    "|  Cagliari|   9|   10|   19|    37|\n",
    "|    Torino|   7|   16|   15|    37|\n",
    "| Benevento|   7|   12|   19|    33|\n",
    "|   Crotone|   6|    5|   27|    23|\n",
    "|     Parma|   3|   11|   24|    20|"
   ]
  },
  {
   "cell_type": "code",
   "execution_count": 38,
   "metadata": {},
   "outputs": [
    {
     "name": "stdout",
     "output_type": "stream",
     "text": [
      " 2020-21 Points table using DecisionTreeClassifier\n",
      "+----------+----+-----+-----+------+\n",
      "|  TeamName|Wins|Draws|Loses|Points|\n",
      "+----------+----+-----+-----+------+\n",
      "|  Atalanta|  34|    3|    1|   105|\n",
      "|     Inter|  32|    2|    4|    98|\n",
      "|    Napoli|  28|    3|    7|    87|\n",
      "|  Juventus|  26|    5|    7|    83|\n",
      "|     Milan|  24|    5|    9|    77|\n",
      "|      Roma|  24|    1|   13|    73|\n",
      "|     Lazio|  21|    3|   14|    66|\n",
      "|   Udinese|  17|    4|   17|    55|\n",
      "|  Sassuolo|  14|   10|   14|    52|\n",
      "|    Torino|  15|    4|   19|    49|\n",
      "|    Verona|  15|    3|   20|    48|\n",
      "|Fiorentina|  10|   10|   18|    40|\n",
      "|     Genoa|  10|    8|   20|    38|\n",
      "| Sampdoria|  10|    5|   23|    35|\n",
      "|   Bologna|   8|   10|   20|    34|\n",
      "| Benevento|   9|    7|   22|    34|\n",
      "|    Spezia|   8|    8|   22|    32|\n",
      "|  Cagliari|   7|    8|   23|    29|\n",
      "|   Crotone|   7|    8|   23|    29|\n",
      "|     Parma|   5|    5|   28|    20|\n",
      "+----------+----+-----+-----+------+\n",
      "\n",
      " 2020-21 Points table using RandomForestClassifier\n",
      "+----------+----+-----+-----+------+\n",
      "|  TeamName|Wins|Draws|Loses|Points|\n",
      "+----------+----+-----+-----+------+\n",
      "|  Atalanta|  32|    5|    1|   101|\n",
      "|     Inter|  31|    2|    5|    95|\n",
      "|  Juventus|  29|    7|    2|    94|\n",
      "|    Napoli|  30|    1|    7|    91|\n",
      "|     Milan|  27|    5|    6|    86|\n",
      "|      Roma|  27|    1|   10|    82|\n",
      "|     Lazio|  26|    2|   10|    80|\n",
      "|  Sassuolo|  21|    1|   16|    64|\n",
      "|   Udinese|  17|    1|   20|    52|\n",
      "| Sampdoria|  16|    1|   21|    49|\n",
      "|Fiorentina|  15|    3|   20|    48|\n",
      "|    Verona|  14|    2|   22|    44|\n",
      "|   Bologna|  13|    2|   23|    41|\n",
      "|  Cagliari|  12|    1|   25|    37|\n",
      "|     Genoa|  11|    1|   26|    34|\n",
      "|    Torino|  11|    0|   27|    33|\n",
      "|    Spezia|  10|    1|   27|    31|\n",
      "| Benevento|   8|    0|   30|    24|\n",
      "|   Crotone|   7|    1|   30|    22|\n",
      "|     Parma|   4|    1|   33|    13|\n",
      "+----------+----+-----+-----+------+\n",
      "\n",
      " 2020-21 Points table using NaiveBayesClassifier\n",
      "+----------+----+-----+-----+------+\n",
      "|  TeamName|Wins|Draws|Loses|Points|\n",
      "+----------+----+-----+-----+------+\n",
      "|  Juventus|  37|    0|    1|   111|\n",
      "|     Inter|  36|    0|    2|   108|\n",
      "|     Lazio|  32|    0|    6|    96|\n",
      "|    Napoli|  31|    1|    6|    94|\n",
      "|  Atalanta|  31|    0|    7|    93|\n",
      "|     Milan|  29|    0|    9|    87|\n",
      "|      Roma|  27|    0|   11|    81|\n",
      "|  Sassuolo|  21|    3|   14|    66|\n",
      "|    Verona|  19|    5|   14|    62|\n",
      "|Fiorentina|  15|    4|   19|    49|\n",
      "|   Bologna|  12|    9|   17|    45|\n",
      "|     Parma|  11|    7|   20|    40|\n",
      "|  Cagliari|  10|    6|   22|    36|\n",
      "|   Udinese|   8|   11|   19|    35|\n",
      "| Sampdoria|   8|    7|   23|    31|\n",
      "|     Genoa|   5|    5|   28|    20|\n",
      "|    Torino|   3|   11|   24|    20|\n",
      "| Benevento|   1|    7|   30|    10|\n",
      "|    Spezia|   1|    5|   32|     8|\n",
      "|   Crotone|   0|    5|   33|     5|\n",
      "+----------+----+-----+-----+------+\n",
      "\n",
      " 2020-21 Points table using LogisticRegressionClassifier\n",
      "+----------+----+-----+-----+------+\n",
      "|  TeamName|Wins|Draws|Loses|Points|\n",
      "+----------+----+-----+-----+------+\n",
      "|  Juventus|  32|    3|    3|    99|\n",
      "|     Inter|  32|    2|    4|    98|\n",
      "|  Atalanta|  31|    2|    5|    95|\n",
      "|    Napoli|  30|    4|    4|    94|\n",
      "|      Roma|  27|    0|   11|    81|\n",
      "|     Milan|  25|    6|    7|    81|\n",
      "|     Lazio|  23|    3|   12|    72|\n",
      "|   Udinese|  18|    4|   16|    58|\n",
      "|  Sassuolo|  18|    2|   18|    56|\n",
      "| Sampdoria|  17|    2|   19|    53|\n",
      "|    Spezia|  15|    0|   23|    45|\n",
      "|     Genoa|  12|    4|   22|    40|\n",
      "|Fiorentina|  12|    4|   22|    40|\n",
      "|    Torino|  12|    3|   23|    39|\n",
      "|    Verona|   9|   11|   18|    38|\n",
      "|   Bologna|  11|    2|   25|    35|\n",
      "|  Cagliari|   7|    7|   24|    28|\n",
      "| Benevento|   5|    5|   28|    20|\n",
      "|   Crotone|   6|    0|   32|    18|\n",
      "|     Parma|   3|    6|   29|    15|\n",
      "+----------+----+-----+-----+------+\n",
      "\n"
     ]
    }
   ],
   "source": [
    "df = my_spark.read.format(\"mongo\").option(\"uri\",\"mongodb://127.0.0.1/LeagueStats.SerieA2020\").load()\n",
    "Accuracy_dt,Accuracy_rf,Accuracy_nb,Accuracy_lr,rmse_dt,rmse_rf,rmse_nb,rmse_lr = computeMLForLeagues(df,\"SerieA2021\")\n",
    "lst = []\n",
    "lst.append(\"Serie-A\")\n",
    "lst.append(Accuracy_dt)\n",
    "lst.append(Accuracy_rf)\n",
    "lst.append(Accuracy_nb)\n",
    "lst.append(Accuracy_lr)\n",
    "lst.append(rmse_dt)\n",
    "lst.append(rmse_rf)\n",
    "lst.append(rmse_nb)\n",
    "lst.append(rmse_lr)\n",
    "Results.append(lst)"
   ]
  },
  {
   "cell_type": "markdown",
   "metadata": {},
   "source": [
    "# Bundesliga\n",
    "\n",
    "### 2019-20 Points Table\n",
    "|          TeamName|Wins|Draws|Loses|Points|\n",
    "| --- | --- | --- | --- | --- |\n",
    "|     Bayern Munich|  26|    4|    4|    82|\n",
    "|          Dortmund|  21|    6|    7|    69|\n",
    "|        RB Leipzig|  18|   12|    4|    66|\n",
    "|        M'gladbach|  20|    5|    9|    65|\n",
    "|        Leverkusen|  19|    6|    9|    63|\n",
    "|        Hoffenheim|  15|    7|   12|    52|\n",
    "|         Wolfsburg|  13|   10|   11|    49|\n",
    "|          Freiburg|  13|    9|   12|    48|\n",
    "|     Ein Frankfurt|  13|    6|   15|    45|\n",
    "|      Union Berlin|  12|    5|   17|    41|\n",
    "|            Hertha|  11|    8|   15|    41|\n",
    "|        Schalke 04|   9|   12|   13|    39|\n",
    "|             Mainz|  11|    4|   19|    37|\n",
    "|          Augsburg|   9|    9|   16|    36|\n",
    "|           FC Koln|  10|    6|   18|    36|\n",
    "|     Werder Bremen|   8|    7|   19|    31|\n",
    "|Fortuna Dusseldorf|   6|   12|   16|    30|\n",
    "|         Paderborn|   4|    8|   22|    20|\n",
    "\n",
    "### 2020-21 Actual Points Table\n",
    "\n",
    "|     TeamName|Wins|Draws|Loses|Points|\n",
    "| --- | --- | --- | --- | --- |\n",
    "|Bayern Munich|  24|    6|    4|    78|\n",
    "|   RB Leipzig|  19|    8|    7|    65|\n",
    "|     Dortmund|  20|    4|   10|    64|\n",
    "|    Wolfsburg|  17|   10|    7|    61|\n",
    "|Ein Frankfurt|  16|   12|    6|    60|\n",
    "|   Leverkusen|  14|   10|   10|    52|\n",
    "| Union Berlin|  12|   14|    8|    50|\n",
    "|   M'gladbach|  13|   10|   11|    49|\n",
    "|    Stuttgart|  12|    9|   13|    45|\n",
    "|     Freiburg|  12|    9|   13|    45|\n",
    "|   Hoffenheim|  11|   10|   13|    43|\n",
    "|        Mainz|  10|    9|   15|    39|\n",
    "|     Augsburg|  10|    6|   18|    36|\n",
    "|    Bielefeld|   9|    8|   17|    35|\n",
    "|       Hertha|   8|   11|   15|    35|\n",
    "|      FC Koln|   8|    9|   17|    33|\n",
    "|Werder Bremen|   7|   10|   17|    31|\n",
    "|   Schalke 04|   3|    7|   24|    16|"
   ]
  },
  {
   "cell_type": "code",
   "execution_count": 39,
   "metadata": {},
   "outputs": [
    {
     "name": "stdout",
     "output_type": "stream",
     "text": [
      " 2020-21 Points table using DecisionTreeClassifier\n",
      "+-------------+----+-----+-----+------+\n",
      "|     TeamName|Wins|Draws|Loses|Points|\n",
      "+-------------+----+-----+-----+------+\n",
      "|   RB Leipzig|  29|    1|    4|    88|\n",
      "|Bayern Munich|  29|    0|    5|    87|\n",
      "|     Dortmund|  28|    1|    5|    85|\n",
      "|    Wolfsburg|  26|    1|    7|    79|\n",
      "|   M'gladbach|  25|    0|    9|    75|\n",
      "|Werder Bremen|  19|    9|    6|    66|\n",
      "|    Bielefeld|  19|    9|    6|    66|\n",
      "|Ein Frankfurt|  22|    0|   12|    66|\n",
      "|    Stuttgart|  18|    0|   16|    54|\n",
      "|   Hoffenheim|  17|    1|   16|    52|\n",
      "|     Freiburg|  17|    0|   17|    51|\n",
      "|   Leverkusen|  15|    2|   17|    47|\n",
      "|       Hertha|  12|    0|   22|    36|\n",
      "| Union Berlin|  11|    2|   21|    35|\n",
      "|     Augsburg|  10|    4|   20|    34|\n",
      "|        Mainz|  10|    3|   21|    33|\n",
      "|      FC Koln|   2|    3|   29|     9|\n",
      "|   Schalke 04|   1|    3|   30|     6|\n",
      "+-------------+----+-----+-----+------+\n",
      "\n",
      " 2020-21 Points table using RandomForestClassifier\n",
      "+-------------+----+-----+-----+------+\n",
      "|     TeamName|Wins|Draws|Loses|Points|\n",
      "+-------------+----+-----+-----+------+\n",
      "|Bayern Munich|  31|    0|    3|    93|\n",
      "|    Wolfsburg|  30|    0|    4|    90|\n",
      "|     Dortmund|  26|    0|    8|    78|\n",
      "|   RB Leipzig|  26|    0|    8|    78|\n",
      "|   Leverkusen|  25|    0|    9|    75|\n",
      "| Union Berlin|  22|    1|   11|    67|\n",
      "|Ein Frankfurt|  22|    0|   12|    66|\n",
      "|   M'gladbach|  22|    0|   12|    66|\n",
      "|   Hoffenheim|  20|    0|   14|    60|\n",
      "|     Freiburg|  15|    3|   16|    48|\n",
      "|       Hertha|  15|    1|   18|    46|\n",
      "|Werder Bremen|   9|   12|   13|    39|\n",
      "|    Bielefeld|   9|   12|   13|    39|\n",
      "|    Stuttgart|   9|    0|   25|    27|\n",
      "|        Mainz|   8|    3|   23|    27|\n",
      "|      FC Koln|   7|    2|   25|    23|\n",
      "|     Augsburg|   4|    4|   26|    16|\n",
      "|   Schalke 04|   1|    2|   31|     5|\n",
      "+-------------+----+-----+-----+------+\n",
      "\n",
      " 2020-21 Points table using NaiveBayesClassifier\n",
      "+-------------+----+-----+-----+------+\n",
      "|     TeamName|Wins|Draws|Loses|Points|\n",
      "+-------------+----+-----+-----+------+\n",
      "|Bayern Munich|  33|    0|    1|    99|\n",
      "|   Leverkusen|  30|    0|    4|    90|\n",
      "|     Dortmund|  29|    0|    5|    87|\n",
      "|   RB Leipzig|  29|    0|    5|    87|\n",
      "|   M'gladbach|  25|    0|    9|    75|\n",
      "|    Wolfsburg|  24|    0|   10|    72|\n",
      "|   Hoffenheim|  22|    0|   12|    66|\n",
      "|Ein Frankfurt|  17|    1|   16|    52|\n",
      "|     Freiburg|  16|    3|   15|    51|\n",
      "| Union Berlin|  16|    3|   15|    51|\n",
      "|       Hertha|  12|    5|   17|    41|\n",
      "|        Mainz|   5|   10|   19|    25|\n",
      "|Werder Bremen|   1|   19|   14|    22|\n",
      "|    Bielefeld|   1|   19|   14|    22|\n",
      "|      FC Koln|   2|    9|   23|    15|\n",
      "|     Augsburg|   1|   12|   21|    15|\n",
      "|    Stuttgart|   1|   11|   22|    14|\n",
      "|   Schalke 04|   1|    9|   24|    12|\n",
      "+-------------+----+-----+-----+------+\n",
      "\n",
      " 2020-21 Points table using LogisticRegressionClassifier\n",
      "+-------------+----+-----+-----+------+\n",
      "|     TeamName|Wins|Draws|Loses|Points|\n",
      "+-------------+----+-----+-----+------+\n",
      "|Bayern Munich|  32|    0|    2|    96|\n",
      "|   RB Leipzig|  27|    2|    5|    83|\n",
      "|     Dortmund|  26|    0|    8|    78|\n",
      "|   Leverkusen|  24|    4|    6|    76|\n",
      "|    Wolfsburg|  24|    3|    7|    75|\n",
      "| Union Berlin|  20|    4|   10|    64|\n",
      "|Ein Frankfurt|  20|    1|   13|    61|\n",
      "|   Hoffenheim|  18|    0|   16|    54|\n",
      "|   M'gladbach|  17|    0|   17|    51|\n",
      "|       Hertha|  13|    5|   16|    44|\n",
      "|     Freiburg|  14|    1|   19|    43|\n",
      "|    Stuttgart|  11|    8|   15|    41|\n",
      "|Werder Bremen|   8|   14|   12|    38|\n",
      "|    Bielefeld|   8|   14|   12|    38|\n",
      "|        Mainz|  11|    5|   18|    38|\n",
      "|     Augsburg|   6|    6|   22|    24|\n",
      "|      FC Koln|   5|    3|   26|    18|\n",
      "|   Schalke 04|   1|    1|   32|     4|\n",
      "+-------------+----+-----+-----+------+\n",
      "\n"
     ]
    }
   ],
   "source": [
    "df = my_spark.read.format(\"mongo\").option(\"uri\",\"mongodb://127.0.0.1/LeagueStats.Bundesliga2020\").load()\n",
    "Accuracy_dt,Accuracy_rf,Accuracy_nb,Accuracy_lr,rmse_dt,rmse_rf,rmse_nb,rmse_lr = computeMLForLeagues(df,\"Bundesliga2021\")\n",
    "lst = []\n",
    "lst.append(\"Bundesliga\")\n",
    "lst.append(Accuracy_dt)\n",
    "lst.append(Accuracy_rf)\n",
    "lst.append(Accuracy_nb)\n",
    "lst.append(Accuracy_lr)\n",
    "lst.append(rmse_dt)\n",
    "lst.append(rmse_rf)\n",
    "lst.append(rmse_nb)\n",
    "lst.append(rmse_lr)\n",
    "Results.append(lst)"
   ]
  },
  {
   "cell_type": "markdown",
   "metadata": {},
   "source": [
    "# Ligue-1\n",
    "\n",
    "### 2019-20 Points Table\n",
    "\n",
    "|   TeamName|Wins|Draws|Loses|Points|\n",
    "| --- | --- | --- | --- | --- |\n",
    "|   Paris SG|  22|    2|   14|    68|\n",
    "|  Marseille|  16|    8|   14|    56|\n",
    "|     Rennes|  15|    5|   18|    50|\n",
    "|      Lille|  15|    4|   19|    49|\n",
    "|       Nice|  11|    8|   19|    41|\n",
    "|      Reims|  10|   11|   17|    41|\n",
    "|Montpellier|  11|    7|   20|    40|\n",
    "|       Lyon|  11|    7|   20|    40|\n",
    "|     Monaco|  11|    7|   20|    40|\n",
    "|     Angers|  11|    6|   21|    39|\n",
    "| Strasbourg|  11|    5|   22|    38|\n",
    "|     Nantes|  11|    4|   23|    37|\n",
    "|   Bordeaux|   9|   10|   19|    37|\n",
    "|      Brest|   8|   10|   20|    34|\n",
    "|       Metz|   8|   10|   20|    34|\n",
    "|      Dijon|   7|    9|   22|    30|\n",
    "| St Etienne|   8|    6|   24|    30|\n",
    "|      Nimes|   7|    6|   25|    27|\n",
    "|     Amiens|   4|   11|   23|    23|\n",
    "|   Toulouse|   3|    4|   31|    13|\n",
    "\n",
    "### 2020-21 Actual Points Table\n",
    "\n",
    "|   TeamName|Wins|Draws|Loses|Points|\n",
    "| --- | --- | --- | --- | --- |\n",
    "|      Lille|  24|   11|    3|    83|\n",
    "|   Paris SG|  26|    4|    8|    82|\n",
    "|     Monaco|  24|    6|    8|    78|\n",
    "|       Lyon|  22|   10|    6|    76|\n",
    "|  Marseille|  16|   12|   10|    60|\n",
    "|     Rennes|  16|   10|   12|    58|\n",
    "|       Lens|  15|   12|   11|    57|\n",
    "|Montpellier|  14|   12|   12|    54|\n",
    "|       Nice|  15|    7|   16|    52|\n",
    "|       Metz|  12|   11|   15|    47|\n",
    "| St Etienne|  12|   10|   16|    46|\n",
    "|   Bordeaux|  13|    6|   19|    45|\n",
    "|     Angers|  12|    8|   18|    44|\n",
    "|      Reims|   9|   15|   14|    42|\n",
    "| Strasbourg|  11|    9|   18|    42|\n",
    "|    Lorient|  11|    9|   18|    42|\n",
    "|      Brest|  11|    8|   19|    41|\n",
    "|     Nantes|   9|   13|   16|    40|\n",
    "|      Nimes|   9|    8|   21|    35|\n",
    "|      Dijon|   4|    9|   25|    21|"
   ]
  },
  {
   "cell_type": "code",
   "execution_count": 40,
   "metadata": {},
   "outputs": [
    {
     "name": "stdout",
     "output_type": "stream",
     "text": [
      " 2020-21 Points table using DecisionTreeClassifier\n",
      "+-----------+----+-----+-----+------+\n",
      "|   TeamName|Wins|Draws|Loses|Points|\n",
      "+-----------+----+-----+-----+------+\n",
      "|       Lyon|  28|    1|    9|    85|\n",
      "|     Monaco|  27|    3|    8|    84|\n",
      "|      Lille|  22|    8|    8|    74|\n",
      "|   Paris SG|  23|    4|   11|    73|\n",
      "|     Rennes|  21|    4|   13|    67|\n",
      "|  Marseille|  20|    1|   17|    61|\n",
      "| St Etienne|  19|    3|   16|    60|\n",
      "|     Angers|  17|    8|   13|    59|\n",
      "|       Metz|  19|    2|   17|    59|\n",
      "| Strasbourg|  18|    3|   17|    57|\n",
      "|      Brest|  18|    3|   17|    57|\n",
      "|     Nantes|  16|    4|   18|    52|\n",
      "|   Bordeaux|  14|    8|   16|    50|\n",
      "|    Lorient|  15|    5|   18|    50|\n",
      "|      Nimes|  15|    5|   18|    50|\n",
      "|       Nice|  15|    4|   19|    49|\n",
      "|      Reims|  13|   10|   15|    49|\n",
      "|Montpellier|  15|    2|   21|    47|\n",
      "|      Dijon|  10|    3|   25|    33|\n",
      "|       Lens|   9|    6|   23|    33|\n",
      "+-----------+----+-----+-----+------+\n",
      "\n",
      " 2020-21 Points table using RandomForestClassifier\n",
      "+-----------+----+-----+-----+------+\n",
      "|   TeamName|Wins|Draws|Loses|Points|\n",
      "+-----------+----+-----+-----+------+\n",
      "|       Lyon|  33|    0|    5|    99|\n",
      "|   Paris SG|  33|    0|    5|    99|\n",
      "|      Lille|  28|    5|    5|    89|\n",
      "|     Monaco|  27|    0|   11|    81|\n",
      "|     Rennes|  21|    7|   10|    70|\n",
      "|  Marseille|  22|    1|   15|    67|\n",
      "|      Nimes|  19|    9|   10|    66|\n",
      "|    Lorient|  19|    9|   10|    66|\n",
      "| St Etienne|  15|    8|   15|    53|\n",
      "|      Brest|  15|    6|   17|    51|\n",
      "|     Angers|  11|   16|   11|    49|\n",
      "|       Metz|  14|    6|   18|    48|\n",
      "|     Nantes|  13|    7|   18|    46|\n",
      "|Montpellier|  14|    3|   21|    45|\n",
      "|       Lens|  11|   10|   17|    43|\n",
      "| Strasbourg|  10|   12|   16|    42|\n",
      "|       Nice|  10|    9|   19|    39|\n",
      "|      Reims|   9|   10|   19|    37|\n",
      "|   Bordeaux|   7|   12|   19|    33|\n",
      "|      Dijon|   5|    4|   29|    19|\n",
      "+-----------+----+-----+-----+------+\n",
      "\n",
      " 2020-21 Points table using NaiveBayesClassifier\n",
      "+-----------+----+-----+-----+------+\n",
      "|   TeamName|Wins|Draws|Loses|Points|\n",
      "+-----------+----+-----+-----+------+\n",
      "|      Lille|  36|    0|    2|   108|\n",
      "|   Paris SG|  35|    0|    3|   105|\n",
      "|     Rennes|  33|    0|    5|    99|\n",
      "|  Marseille|  32|    0|    6|    96|\n",
      "|       Nice|  27|    1|   10|    82|\n",
      "|       Lyon|  27|    0|   11|    81|\n",
      "|      Reims|  25|    0|   13|    75|\n",
      "|     Monaco|  22|    4|   12|    70|\n",
      "|Montpellier|  22|    2|   14|    68|\n",
      "|     Angers|  16|    7|   15|    55|\n",
      "| Strasbourg|  14|    8|   16|    50|\n",
      "|     Nantes|   8|    8|   22|    32|\n",
      "|   Bordeaux|   6|   13|   19|    31|\n",
      "|       Metz|   6|   12|   20|    30|\n",
      "|      Nimes|   1|   22|   15|    25|\n",
      "|    Lorient|   1|   22|   15|    25|\n",
      "| St Etienne|   3|   13|   22|    22|\n",
      "|      Brest|   3|   12|   23|    21|\n",
      "|      Dijon|   0|   13|   25|    13|\n",
      "|       Lens|   0|   11|   27|    11|\n",
      "+-----------+----+-----+-----+------+\n",
      "\n",
      " 2020-21 Points table using LogisticRegressionClassifier\n",
      "+-----------+----+-----+-----+------+\n",
      "|   TeamName|Wins|Draws|Loses|Points|\n",
      "+-----------+----+-----+-----+------+\n",
      "|      Lille|  32|    3|    3|    99|\n",
      "|   Paris SG|  32|    0|    6|    96|\n",
      "|       Lyon|  31|    0|    7|    93|\n",
      "|     Monaco|  30|    2|    6|    92|\n",
      "|     Rennes|  24|    2|   12|    74|\n",
      "|    Lorient|  20|    9|    9|    69|\n",
      "|      Nimes|  20|    9|    9|    69|\n",
      "|  Marseille|  20|    2|   16|    62|\n",
      "|       Metz|  18|    5|   15|    59|\n",
      "|       Lens|  16|    7|   15|    55|\n",
      "|      Brest|  17|    3|   18|    54|\n",
      "| St Etienne|  17|    3|   18|    54|\n",
      "|       Nice|  16|    2|   20|    50|\n",
      "|Montpellier|  16|    1|   21|    49|\n",
      "|     Nantes|  14|    2|   22|    44|\n",
      "| Strasbourg|  13|    3|   22|    42|\n",
      "|   Bordeaux|  10|    9|   19|    39|\n",
      "|     Angers|   9|   10|   19|    37|\n",
      "|      Reims|   7|    7|   24|    28|\n",
      "|      Dijon|   1|    3|   34|     6|\n",
      "+-----------+----+-----+-----+------+\n",
      "\n"
     ]
    }
   ],
   "source": [
    "df = my_spark.read.format(\"mongo\").option(\"uri\",\"mongodb://127.0.0.1/LeagueStats.Ligue2020\").load()\n",
    "Accuracy_dt,Accuracy_rf,Accuracy_nb,Accuracy_lr,rmse_dt,rmse_rf,rmse_nb,rmse_lr = computeMLForLeagues(df,\"Ligue2021\")\n",
    "lst = []\n",
    "lst.append(\"Ligue-1\")\n",
    "lst.append(Accuracy_dt)\n",
    "lst.append(Accuracy_rf)\n",
    "lst.append(Accuracy_nb)\n",
    "lst.append(Accuracy_lr)\n",
    "lst.append(rmse_dt)\n",
    "lst.append(rmse_rf)\n",
    "lst.append(rmse_nb)\n",
    "lst.append(rmse_lr)\n",
    "Results.append(lst)"
   ]
  },
  {
   "cell_type": "code",
   "execution_count": 41,
   "metadata": {},
   "outputs": [
    {
     "name": "stdout",
     "output_type": "stream",
     "text": [
      "Requirement already satisfied: tabulate in c:\\users\\aswath\\anaconda3\\envs\\py38\\lib\\site-packages (0.8.9)\n"
     ]
    }
   ],
   "source": [
    "!pip install tabulate"
   ]
  },
  {
   "cell_type": "code",
   "execution_count": 42,
   "metadata": {},
   "outputs": [
    {
     "name": "stdout",
     "output_type": "stream",
     "text": [
      "Results from  Premier League\n",
      "---------------------------\n",
      "| Classifier          |   AccuracyM |   RMSE |\n",
      "|---------------------+-------------+--------|\n",
      "| Decision Tree       |        43.7 |  11.38 |\n",
      "| Random Forest       |        53.4 |  11.69 |\n",
      "| Naive Bayes         |        53.2 |  23.42 |\n",
      "| Logistic Regression |        57.9 |  12    |\n",
      "\n",
      "\n",
      " The results generated by Logistic Regression Classifier has the better Accuracy than other Classifiers( 43.684210526315795 ) in  Premier League\n",
      "Results from  La Liga\n",
      "---------------------------\n",
      "| Classifier          |   AccuracyM |   RMSE |\n",
      "|---------------------+-------------+--------|\n",
      "| Decision Tree       |        50.5 |  11.33 |\n",
      "| Random Forest       |        54.7 |  13.28 |\n",
      "| Naive Bayes         |        53.2 |  21.48 |\n",
      "| Logistic Regression |        57.1 |  14.1  |\n",
      "\n",
      "\n",
      " The results generated by Logistic Regression Classifier has the better Accuracy than other Classifiers( 50.526315789473685 ) in  La Liga\n",
      "Results from  Serie-A\n",
      "---------------------------\n",
      "| Classifier          |   AccuracyM |   RMSE |\n",
      "|---------------------+-------------+--------|\n",
      "| Decision Tree       |        52.9 |  10.02 |\n",
      "| Random Forest       |        56.8 |  10.12 |\n",
      "| Naive Bayes         |        55.8 |  18.7  |\n",
      "| Logistic Regression |        58.7 |  10.4  |\n",
      "\n",
      "\n",
      " The results generated by Logistic Regression Classifier has the better Accuracy than other Classifiers( 52.89473684210526 ) in  Serie-A\n",
      "Results from  Bundesliga\n",
      "---------------------------\n",
      "| Classifier          |   AccuracyM |   RMSE |\n",
      "|---------------------+-------------+--------|\n",
      "| Decision Tree       |        39.2 |  17.38 |\n",
      "| Random Forest       |        45.5 |  15.21 |\n",
      "| Naive Bayes         |        41.6 |  19.07 |\n",
      "| Logistic Regression |        45.8 |  12    |\n",
      "\n",
      "\n",
      " The results generated by Logistic Regression Classifier has the better Accuracy than other Classifiers( 39.21052631578947 ) in  Bundesliga\n",
      "Results from  Ligue-1\n",
      "---------------------------\n",
      "| Classifier          |   AccuracyM |   RMSE |\n",
      "|---------------------+-------------+--------|\n",
      "| Decision Tree       |        49.7 |  11.6  |\n",
      "| Random Forest       |        56.6 |  13.08 |\n",
      "| Naive Bayes         |        52.6 |  23.11 |\n",
      "| Logistic Regression |        59.7 |  14.2  |\n",
      "\n",
      "\n",
      " The results generated by Logistic Regression Classifier has the better Accuracy than other Classifiers( 49.73684210526316 ) in  Ligue-1\n"
     ]
    }
   ],
   "source": [
    "from tabulate import tabulate\n",
    "for i in range(len(Results)):\n",
    "    print(\"Results from \",Results[i][0])\n",
    "    print(\"---------------------------\")\n",
    "    print(tabulate([[\"Decision Tree \",round(Results[i][1]*100,1),round(Results[i][5],2)],[\"Random Forest \",round(Results[i][2]*100,1),round(Results[i][6],2)],[\"Naive Bayes   \" ,round(Results[i][3]*100,1),round(Results[i][7],2)],[\"Logistic Regression \",round(Results[i][4]*100,1),round(Results[i][8],1)]],headers = [\"Classifier\",\"AccuracyM\",\"RMSE\"],tablefmt='orgtbl'))\n",
    "    print(\"\\n\")\n",
    "    if Results[i][1] == max(Results[i][1],max(Results[i][2],max(Results[i][3],Results[i][4]))):\n",
    "        print(\" The results generated by Decision Tree Classifier has the better Accuracy than other Classifiers(\",Results[i][1]*100,\") in \",Results[i][0])\n",
    "    elif Results[i][2] == max(Results[i][1],max(Results[i][2],max(Results[i][3],Results[i][4]))):\n",
    "        print(\" The results generated by Random Forest Classifier has the better Accuracy than other Classifiers(\",Results[i][2]*100,\") in \",Results[i][0])\n",
    "    elif Results[i][3] == max(Results[i][1],max(Results[i][2],max(Results[i][3],Results[i][4]))):\n",
    "        print(\" The results generated by Naive Bayes Classifier has the better Accuracy than other Classifiers(\",Results[i][3]*100,\") in \",Results[i][0])\n",
    "    else:\n",
    "        print(\" The results generated by Logistic Regression Classifier has the better Accuracy than other Classifiers(\",Results[i][1]*100,\") in \",Results[i][0])    "
   ]
  },
  {
   "cell_type": "code",
   "execution_count": null,
   "metadata": {},
   "outputs": [],
   "source": []
  }
 ],
 "metadata": {
  "kernelspec": {
   "display_name": "Python 3",
   "language": "python",
   "name": "python3"
  },
  "language_info": {
   "codemirror_mode": {
    "name": "ipython",
    "version": 3
   },
   "file_extension": ".py",
   "mimetype": "text/x-python",
   "name": "python",
   "nbconvert_exporter": "python",
   "pygments_lexer": "ipython3",
   "version": "3.7.4"
  }
 },
 "nbformat": 4,
 "nbformat_minor": 2
}
